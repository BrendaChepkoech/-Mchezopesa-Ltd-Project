{
  "nbformat": 4,
  "nbformat_minor": 0,
  "metadata": {
    "colab": {
      "name": "Brenda Chepkoech_Week_6_IP",
      "provenance": [],
      "collapsed_sections": [
        "6XC_g-zKxe-r",
        "HPQviDmNtta8",
        "qjFHK1CKty7o",
        "HSsicSdvt4Zs"
      ],
      "toc_visible": true,
      "include_colab_link": true
    },
    "kernelspec": {
      "name": "python3",
      "display_name": "Python 3"
    }
  },
  "cells": [
    {
      "cell_type": "markdown",
      "metadata": {
        "id": "view-in-github",
        "colab_type": "text"
      },
      "source": [
        "<a href=\"https://colab.research.google.com/github/BrendaChepkoech/-Mchezopesa-Ltd-Project/blob/main/Brenda_Chepkoech_Week_6_IP.ipynb\" target=\"_parent\"><img src=\"https://colab.research.google.com/assets/colab-badge.svg\" alt=\"Open In Colab\"/></a>"
      ]
    },
    {
      "cell_type": "markdown",
      "metadata": {
        "id": "xMxtPsqcTsSH"
      },
      "source": [
        "# Supervised Learning with Exploratory Data Analysis - Exercise 1"
      ]
    },
    {
      "cell_type": "markdown",
      "metadata": {
        "id": "kLG2VTrnTvYL"
      },
      "source": [
        "## 1. Defining the Question"
      ]
    },
    {
      "cell_type": "markdown",
      "metadata": {
        "id": "XecOwPNorl2W"
      },
      "source": [
        "### a) Specifying the Question"
      ]
    },
    {
      "cell_type": "markdown",
      "metadata": {
        "id": "8l3-hBO6bODP"
      },
      "source": [
        "\n",
        "You have been recruited as a football analyst in a company - Mchezopesa Ltd and tasked to accomplish the task below.\n",
        "\n",
        "A prediction result of a game between team 1 and team 2, based on who's home and who's away, and on whether or not the game is friendly (include rank in your training).\n",
        "\n",
        "You have two possible approaches (as  shown below) given the datasets that will be provided\n",
        "\n",
        "Input: Home team, Away team, Tournament type (World cup, Friendly, Other)\n",
        "\n"
      ]
    },
    {
      "cell_type": "markdown",
      "metadata": {
        "id": "J4wfHZwQrs-t"
      },
      "source": [
        "### b) Defining the Metric for Success"
      ]
    },
    {
      "cell_type": "markdown",
      "metadata": {
        "id": "qxHDdroam_ch"
      },
      "source": [
        "**Approach 1: Polynomial approach**\n",
        "\n",
        "Be able to Predict how many goals the home team scores.\n",
        "Be able to Predict how many goals the away team scores.\n",
        "\n",
        "**Approach 2: Logistic approach**\n",
        "\n",
        "Feature Engineering: Figure out from the home team’s perspective if the game is a Win, Lose or Draw (W, L, D)"
      ]
    },
    {
      "cell_type": "markdown",
      "metadata": {
        "id": "a9BPYqunry97"
      },
      "source": [
        "### c) Understanding the context "
      ]
    },
    {
      "cell_type": "markdown",
      "metadata": {
        "id": "6BIgUtWVFCK9"
      },
      "source": [
        "You have been recruited as a football analyst in a company - Mchezopesa Ltd and tasked to accomplish the task below.\n",
        "\n",
        "A prediction result of a game between team 1 and team 2, based on who's home and who's away, and on whether or not the game is friendly (include rank in your training)."
      ]
    },
    {
      "cell_type": "markdown",
      "metadata": {
        "id": "7KMRBJ7zr9HD"
      },
      "source": [
        "### d) Recording the Experimental Design"
      ]
    },
    {
      "cell_type": "markdown",
      "metadata": {
        "id": "s7dNYYZoFmr-"
      },
      "source": [
        "\n",
        "\n",
        "*   Reading the data\n",
        "*   Previewing the 2 datasets\n",
        "*   Perform data cleaning\n",
        "*   Merging the dataset\n",
        "*   Performing EDA\n",
        "*   Before modelling, make sure to perform feature scalling and check for multicollinearity.\n",
        "*   Perform polynomial and logistic regression\n",
        "*   Check for residuals and also test for heteroskedasticity\n",
        "*   Compute the accuracy of the models\n"
      ]
    },
    {
      "cell_type": "markdown",
      "metadata": {
        "id": "zSGyg6kWsBUl"
      },
      "source": [
        "### e) Data Relevance"
      ]
    },
    {
      "cell_type": "markdown",
      "metadata": {
        "id": "f60mH2DIoRX9"
      },
      "source": [
        "The data provided is relevant since it has all the data that is needed for analysis and building a model for prediction"
      ]
    },
    {
      "cell_type": "markdown",
      "metadata": {
        "id": "iUNbvIvnT7ep"
      },
      "source": [
        "## 2. Reading the Data"
      ]
    },
    {
      "cell_type": "code",
      "metadata": {
        "id": "ZycB6Wmypfg_"
      },
      "source": [
        "# Loading libraries\n",
        "import numpy as np\n",
        "import pandas as pd\n",
        "import seaborn as sns\n",
        "import matplotlib.pyplot as plt\n",
        "from sklearn import linear_model, datasets\n",
        "from sklearn.model_selection import GridSearchCV\n",
        "from sklearn.model_selection import train_test_split\n",
        "from sklearn.linear_model import LogisticRegression\n",
        "from sklearn.metrics import classification_report\n",
        "from sklearn.metrics import confusion_matrix\n",
        "from sklearn.metrics import accuracy_score\n",
        "from sklearn import metrics\n",
        "from sklearn.preprocessing import StandardScaler\n",
        "from sklearn.preprocessing import LabelEncoder"
      ],
      "execution_count": 1043,
      "outputs": []
    },
    {
      "cell_type": "code",
      "metadata": {
        "id": "XJn2KjW-WMlG"
      },
      "source": [
        "# Loading the Dataset\n",
        "# Loading the fifa ranking dataset\n",
        "#\n",
        "rankings=pd.read_csv(\"/content/fifa_ranking.csv\")"
      ],
      "execution_count": 1044,
      "outputs": []
    },
    {
      "cell_type": "code",
      "metadata": {
        "id": "jbcUhZHKonrQ"
      },
      "source": [
        "# Loading the Dataset\n",
        "# Loading the results dataset\n",
        "#\n",
        "results=pd.read_csv(\"/content/results.csv\")"
      ],
      "execution_count": 1045,
      "outputs": []
    },
    {
      "cell_type": "markdown",
      "metadata": {
        "id": "OI3P3YnHUEBk"
      },
      "source": [
        "## 3. Checking the Data"
      ]
    },
    {
      "cell_type": "code",
      "metadata": {
        "id": "YjSVNwgptHxY",
        "colab": {
          "base_uri": "https://localhost:8080/"
        },
        "outputId": "ec0a7b9a-95c9-42b3-9aa1-8064d1d87205"
      },
      "source": [
        "# Determining the no. of records in our dataset\n",
        "#rankings\n",
        "rankings.shape"
      ],
      "execution_count": 1046,
      "outputs": [
        {
          "output_type": "execute_result",
          "data": {
            "text/plain": [
              "(57793, 16)"
            ]
          },
          "metadata": {},
          "execution_count": 1046
        }
      ]
    },
    {
      "cell_type": "code",
      "metadata": {
        "id": "xHhTw5eKWr0n",
        "colab": {
          "base_uri": "https://localhost:8080/",
          "height": 167
        },
        "outputId": "1abeac85-d7e9-429c-afc3-ba3ad63c58d9"
      },
      "source": [
        "# Previewing the top of our dataset\n",
        "rankings.head(2)"
      ],
      "execution_count": 1047,
      "outputs": [
        {
          "output_type": "execute_result",
          "data": {
            "text/html": [
              "<div>\n",
              "<style scoped>\n",
              "    .dataframe tbody tr th:only-of-type {\n",
              "        vertical-align: middle;\n",
              "    }\n",
              "\n",
              "    .dataframe tbody tr th {\n",
              "        vertical-align: top;\n",
              "    }\n",
              "\n",
              "    .dataframe thead th {\n",
              "        text-align: right;\n",
              "    }\n",
              "</style>\n",
              "<table border=\"1\" class=\"dataframe\">\n",
              "  <thead>\n",
              "    <tr style=\"text-align: right;\">\n",
              "      <th></th>\n",
              "      <th>rank</th>\n",
              "      <th>country_full</th>\n",
              "      <th>country_abrv</th>\n",
              "      <th>total_points</th>\n",
              "      <th>previous_points</th>\n",
              "      <th>rank_change</th>\n",
              "      <th>cur_year_avg</th>\n",
              "      <th>cur_year_avg_weighted</th>\n",
              "      <th>last_year_avg</th>\n",
              "      <th>last_year_avg_weighted</th>\n",
              "      <th>two_year_ago_avg</th>\n",
              "      <th>two_year_ago_weighted</th>\n",
              "      <th>three_year_ago_avg</th>\n",
              "      <th>three_year_ago_weighted</th>\n",
              "      <th>confederation</th>\n",
              "      <th>rank_date</th>\n",
              "    </tr>\n",
              "  </thead>\n",
              "  <tbody>\n",
              "    <tr>\n",
              "      <th>0</th>\n",
              "      <td>1</td>\n",
              "      <td>Germany</td>\n",
              "      <td>GER</td>\n",
              "      <td>0.0</td>\n",
              "      <td>57</td>\n",
              "      <td>0</td>\n",
              "      <td>0.0</td>\n",
              "      <td>0.0</td>\n",
              "      <td>0.0</td>\n",
              "      <td>0.0</td>\n",
              "      <td>0.0</td>\n",
              "      <td>0.0</td>\n",
              "      <td>0.0</td>\n",
              "      <td>0.0</td>\n",
              "      <td>UEFA</td>\n",
              "      <td>1993-08-08</td>\n",
              "    </tr>\n",
              "    <tr>\n",
              "      <th>1</th>\n",
              "      <td>2</td>\n",
              "      <td>Italy</td>\n",
              "      <td>ITA</td>\n",
              "      <td>0.0</td>\n",
              "      <td>57</td>\n",
              "      <td>0</td>\n",
              "      <td>0.0</td>\n",
              "      <td>0.0</td>\n",
              "      <td>0.0</td>\n",
              "      <td>0.0</td>\n",
              "      <td>0.0</td>\n",
              "      <td>0.0</td>\n",
              "      <td>0.0</td>\n",
              "      <td>0.0</td>\n",
              "      <td>UEFA</td>\n",
              "      <td>1993-08-08</td>\n",
              "    </tr>\n",
              "  </tbody>\n",
              "</table>\n",
              "</div>"
            ],
            "text/plain": [
              "   rank country_full  ... confederation   rank_date\n",
              "0     1      Germany  ...          UEFA  1993-08-08\n",
              "1     2        Italy  ...          UEFA  1993-08-08\n",
              "\n",
              "[2 rows x 16 columns]"
            ]
          },
          "metadata": {},
          "execution_count": 1047
        }
      ]
    },
    {
      "cell_type": "code",
      "metadata": {
        "id": "e9AzGcZFrIIr",
        "colab": {
          "base_uri": "https://localhost:8080/",
          "height": 167
        },
        "outputId": "ec5309d1-785d-41f4-d6dd-d6a49c33f7c3"
      },
      "source": [
        "# Previewing the bottom of our dataset\n",
        "# \n",
        "rankings.tail(2)"
      ],
      "execution_count": 1048,
      "outputs": [
        {
          "output_type": "execute_result",
          "data": {
            "text/html": [
              "<div>\n",
              "<style scoped>\n",
              "    .dataframe tbody tr th:only-of-type {\n",
              "        vertical-align: middle;\n",
              "    }\n",
              "\n",
              "    .dataframe tbody tr th {\n",
              "        vertical-align: top;\n",
              "    }\n",
              "\n",
              "    .dataframe thead th {\n",
              "        text-align: right;\n",
              "    }\n",
              "</style>\n",
              "<table border=\"1\" class=\"dataframe\">\n",
              "  <thead>\n",
              "    <tr style=\"text-align: right;\">\n",
              "      <th></th>\n",
              "      <th>rank</th>\n",
              "      <th>country_full</th>\n",
              "      <th>country_abrv</th>\n",
              "      <th>total_points</th>\n",
              "      <th>previous_points</th>\n",
              "      <th>rank_change</th>\n",
              "      <th>cur_year_avg</th>\n",
              "      <th>cur_year_avg_weighted</th>\n",
              "      <th>last_year_avg</th>\n",
              "      <th>last_year_avg_weighted</th>\n",
              "      <th>two_year_ago_avg</th>\n",
              "      <th>two_year_ago_weighted</th>\n",
              "      <th>three_year_ago_avg</th>\n",
              "      <th>three_year_ago_weighted</th>\n",
              "      <th>confederation</th>\n",
              "      <th>rank_date</th>\n",
              "    </tr>\n",
              "  </thead>\n",
              "  <tbody>\n",
              "    <tr>\n",
              "      <th>57791</th>\n",
              "      <td>206</td>\n",
              "      <td>Somalia</td>\n",
              "      <td>SOM</td>\n",
              "      <td>0.0</td>\n",
              "      <td>0</td>\n",
              "      <td>1</td>\n",
              "      <td>0.0</td>\n",
              "      <td>0.0</td>\n",
              "      <td>0.0</td>\n",
              "      <td>0.0</td>\n",
              "      <td>0.0</td>\n",
              "      <td>0.0</td>\n",
              "      <td>0.0</td>\n",
              "      <td>0.0</td>\n",
              "      <td>CAF</td>\n",
              "      <td>2018-06-07</td>\n",
              "    </tr>\n",
              "    <tr>\n",
              "      <th>57792</th>\n",
              "      <td>206</td>\n",
              "      <td>Tonga</td>\n",
              "      <td>TGA</td>\n",
              "      <td>0.0</td>\n",
              "      <td>0</td>\n",
              "      <td>1</td>\n",
              "      <td>0.0</td>\n",
              "      <td>0.0</td>\n",
              "      <td>0.0</td>\n",
              "      <td>0.0</td>\n",
              "      <td>0.0</td>\n",
              "      <td>0.0</td>\n",
              "      <td>0.0</td>\n",
              "      <td>0.0</td>\n",
              "      <td>OFC</td>\n",
              "      <td>2018-06-07</td>\n",
              "    </tr>\n",
              "  </tbody>\n",
              "</table>\n",
              "</div>"
            ],
            "text/plain": [
              "       rank country_full  ... confederation   rank_date\n",
              "57791   206      Somalia  ...           CAF  2018-06-07\n",
              "57792   206        Tonga  ...           OFC  2018-06-07\n",
              "\n",
              "[2 rows x 16 columns]"
            ]
          },
          "metadata": {},
          "execution_count": 1048
        }
      ]
    },
    {
      "cell_type": "code",
      "metadata": {
        "id": "n8-dW4sQWzbc",
        "colab": {
          "base_uri": "https://localhost:8080/"
        },
        "outputId": "2c6aba2e-5fc2-45b1-ef75-f216505e0639"
      },
      "source": [
        "# Checking whether each column has an appropriate datatype\n",
        "#\n",
        "rankings.info()"
      ],
      "execution_count": 1049,
      "outputs": [
        {
          "output_type": "stream",
          "name": "stdout",
          "text": [
            "<class 'pandas.core.frame.DataFrame'>\n",
            "RangeIndex: 57793 entries, 0 to 57792\n",
            "Data columns (total 16 columns):\n",
            " #   Column                   Non-Null Count  Dtype  \n",
            "---  ------                   --------------  -----  \n",
            " 0   rank                     57793 non-null  int64  \n",
            " 1   country_full             57793 non-null  object \n",
            " 2   country_abrv             57793 non-null  object \n",
            " 3   total_points             57793 non-null  float64\n",
            " 4   previous_points          57793 non-null  int64  \n",
            " 5   rank_change              57793 non-null  int64  \n",
            " 6   cur_year_avg             57793 non-null  float64\n",
            " 7   cur_year_avg_weighted    57793 non-null  float64\n",
            " 8   last_year_avg            57793 non-null  float64\n",
            " 9   last_year_avg_weighted   57793 non-null  float64\n",
            " 10  two_year_ago_avg         57793 non-null  float64\n",
            " 11  two_year_ago_weighted    57793 non-null  float64\n",
            " 12  three_year_ago_avg       57793 non-null  float64\n",
            " 13  three_year_ago_weighted  57793 non-null  float64\n",
            " 14  confederation            57793 non-null  object \n",
            " 15  rank_date                57793 non-null  object \n",
            "dtypes: float64(9), int64(3), object(4)\n",
            "memory usage: 7.1+ MB\n"
          ]
        }
      ]
    },
    {
      "cell_type": "code",
      "metadata": {
        "colab": {
          "base_uri": "https://localhost:8080/"
        },
        "id": "A0ttbMuUp9xw",
        "outputId": "29240956-3a0c-4be2-ed7d-0379bf129e4e"
      },
      "source": [
        "#results\n",
        "results.shape"
      ],
      "execution_count": 1050,
      "outputs": [
        {
          "output_type": "execute_result",
          "data": {
            "text/plain": [
              "(40839, 9)"
            ]
          },
          "metadata": {},
          "execution_count": 1050
        }
      ]
    },
    {
      "cell_type": "code",
      "metadata": {
        "colab": {
          "base_uri": "https://localhost:8080/",
          "height": 143
        },
        "id": "pAFu842AqpqP",
        "outputId": "fea1434c-ce95-42f1-b0bc-aa16b6449855"
      },
      "source": [
        "# Previewing the top of our dataset\n",
        "results.head(3)"
      ],
      "execution_count": 1051,
      "outputs": [
        {
          "output_type": "execute_result",
          "data": {
            "text/html": [
              "<div>\n",
              "<style scoped>\n",
              "    .dataframe tbody tr th:only-of-type {\n",
              "        vertical-align: middle;\n",
              "    }\n",
              "\n",
              "    .dataframe tbody tr th {\n",
              "        vertical-align: top;\n",
              "    }\n",
              "\n",
              "    .dataframe thead th {\n",
              "        text-align: right;\n",
              "    }\n",
              "</style>\n",
              "<table border=\"1\" class=\"dataframe\">\n",
              "  <thead>\n",
              "    <tr style=\"text-align: right;\">\n",
              "      <th></th>\n",
              "      <th>date</th>\n",
              "      <th>home_team</th>\n",
              "      <th>away_team</th>\n",
              "      <th>home_score</th>\n",
              "      <th>away_score</th>\n",
              "      <th>tournament</th>\n",
              "      <th>city</th>\n",
              "      <th>country</th>\n",
              "      <th>neutral</th>\n",
              "    </tr>\n",
              "  </thead>\n",
              "  <tbody>\n",
              "    <tr>\n",
              "      <th>0</th>\n",
              "      <td>1872-11-30</td>\n",
              "      <td>Scotland</td>\n",
              "      <td>England</td>\n",
              "      <td>0</td>\n",
              "      <td>0</td>\n",
              "      <td>Friendly</td>\n",
              "      <td>Glasgow</td>\n",
              "      <td>Scotland</td>\n",
              "      <td>False</td>\n",
              "    </tr>\n",
              "    <tr>\n",
              "      <th>1</th>\n",
              "      <td>1873-03-08</td>\n",
              "      <td>England</td>\n",
              "      <td>Scotland</td>\n",
              "      <td>4</td>\n",
              "      <td>2</td>\n",
              "      <td>Friendly</td>\n",
              "      <td>London</td>\n",
              "      <td>England</td>\n",
              "      <td>False</td>\n",
              "    </tr>\n",
              "    <tr>\n",
              "      <th>2</th>\n",
              "      <td>1874-03-07</td>\n",
              "      <td>Scotland</td>\n",
              "      <td>England</td>\n",
              "      <td>2</td>\n",
              "      <td>1</td>\n",
              "      <td>Friendly</td>\n",
              "      <td>Glasgow</td>\n",
              "      <td>Scotland</td>\n",
              "      <td>False</td>\n",
              "    </tr>\n",
              "  </tbody>\n",
              "</table>\n",
              "</div>"
            ],
            "text/plain": [
              "         date home_team away_team  ...     city   country neutral\n",
              "0  1872-11-30  Scotland   England  ...  Glasgow  Scotland   False\n",
              "1  1873-03-08   England  Scotland  ...   London   England   False\n",
              "2  1874-03-07  Scotland   England  ...  Glasgow  Scotland   False\n",
              "\n",
              "[3 rows x 9 columns]"
            ]
          },
          "metadata": {},
          "execution_count": 1051
        }
      ]
    },
    {
      "cell_type": "code",
      "metadata": {
        "colab": {
          "base_uri": "https://localhost:8080/",
          "height": 195
        },
        "id": "jBPzgFE-qxrY",
        "outputId": "4b14c2df-c7bd-4064-a1f4-1f64598a5347"
      },
      "source": [
        "## Previewing the bottom of our dataset\n",
        "results.tail(3)"
      ],
      "execution_count": 1052,
      "outputs": [
        {
          "output_type": "execute_result",
          "data": {
            "text/html": [
              "<div>\n",
              "<style scoped>\n",
              "    .dataframe tbody tr th:only-of-type {\n",
              "        vertical-align: middle;\n",
              "    }\n",
              "\n",
              "    .dataframe tbody tr th {\n",
              "        vertical-align: top;\n",
              "    }\n",
              "\n",
              "    .dataframe thead th {\n",
              "        text-align: right;\n",
              "    }\n",
              "</style>\n",
              "<table border=\"1\" class=\"dataframe\">\n",
              "  <thead>\n",
              "    <tr style=\"text-align: right;\">\n",
              "      <th></th>\n",
              "      <th>date</th>\n",
              "      <th>home_team</th>\n",
              "      <th>away_team</th>\n",
              "      <th>home_score</th>\n",
              "      <th>away_score</th>\n",
              "      <th>tournament</th>\n",
              "      <th>city</th>\n",
              "      <th>country</th>\n",
              "      <th>neutral</th>\n",
              "    </tr>\n",
              "  </thead>\n",
              "  <tbody>\n",
              "    <tr>\n",
              "      <th>40836</th>\n",
              "      <td>2019-07-19</td>\n",
              "      <td>Senegal</td>\n",
              "      <td>Algeria</td>\n",
              "      <td>0</td>\n",
              "      <td>1</td>\n",
              "      <td>African Cup of Nations</td>\n",
              "      <td>Cairo</td>\n",
              "      <td>Egypt</td>\n",
              "      <td>True</td>\n",
              "    </tr>\n",
              "    <tr>\n",
              "      <th>40837</th>\n",
              "      <td>2019-07-19</td>\n",
              "      <td>Tajikistan</td>\n",
              "      <td>North Korea</td>\n",
              "      <td>0</td>\n",
              "      <td>1</td>\n",
              "      <td>Intercontinental Cup</td>\n",
              "      <td>Ahmedabad</td>\n",
              "      <td>India</td>\n",
              "      <td>True</td>\n",
              "    </tr>\n",
              "    <tr>\n",
              "      <th>40838</th>\n",
              "      <td>2019-07-20</td>\n",
              "      <td>Papua New Guinea</td>\n",
              "      <td>Fiji</td>\n",
              "      <td>1</td>\n",
              "      <td>1</td>\n",
              "      <td>Pacific Games</td>\n",
              "      <td>Apia</td>\n",
              "      <td>Samoa</td>\n",
              "      <td>True</td>\n",
              "    </tr>\n",
              "  </tbody>\n",
              "</table>\n",
              "</div>"
            ],
            "text/plain": [
              "             date         home_team    away_team  ...       city  country neutral\n",
              "40836  2019-07-19           Senegal      Algeria  ...      Cairo    Egypt    True\n",
              "40837  2019-07-19        Tajikistan  North Korea  ...  Ahmedabad    India    True\n",
              "40838  2019-07-20  Papua New Guinea         Fiji  ...       Apia    Samoa    True\n",
              "\n",
              "[3 rows x 9 columns]"
            ]
          },
          "metadata": {},
          "execution_count": 1052
        }
      ]
    },
    {
      "cell_type": "code",
      "metadata": {
        "colab": {
          "base_uri": "https://localhost:8080/"
        },
        "id": "ttN26q7jqxe0",
        "outputId": "e2fec49a-e9d7-43eb-cf81-ec555132f7f8"
      },
      "source": [
        "# Checking whether each column has an appropriate datatype\n",
        "results.info()"
      ],
      "execution_count": 1053,
      "outputs": [
        {
          "output_type": "stream",
          "name": "stdout",
          "text": [
            "<class 'pandas.core.frame.DataFrame'>\n",
            "RangeIndex: 40839 entries, 0 to 40838\n",
            "Data columns (total 9 columns):\n",
            " #   Column      Non-Null Count  Dtype \n",
            "---  ------      --------------  ----- \n",
            " 0   date        40839 non-null  object\n",
            " 1   home_team   40839 non-null  object\n",
            " 2   away_team   40839 non-null  object\n",
            " 3   home_score  40839 non-null  int64 \n",
            " 4   away_score  40839 non-null  int64 \n",
            " 5   tournament  40839 non-null  object\n",
            " 6   city        40839 non-null  object\n",
            " 7   country     40839 non-null  object\n",
            " 8   neutral     40839 non-null  bool  \n",
            "dtypes: bool(1), int64(2), object(6)\n",
            "memory usage: 2.5+ MB\n"
          ]
        }
      ]
    },
    {
      "cell_type": "markdown",
      "metadata": {
        "id": "ckfufNrcUHeH"
      },
      "source": [
        "## 4. External Data Source Validation"
      ]
    },
    {
      "cell_type": "markdown",
      "metadata": {
        "id": "6L4sl_0WXlbg"
      },
      "source": [
        "Making sure your data matches something outside of the dataset is very important. It allows you to ensure that the measurements are roughly in line with what they should be and it serves as a check on what other things might be wrong in your dataset. External validation can often be as simple as checking your data against a single number, as we will do here."
      ]
    },
    {
      "cell_type": "markdown",
      "metadata": {
        "id": "6XC_g-zKxe-r"
      },
      "source": [
        "### a.Validation"
      ]
    },
    {
      "cell_type": "markdown",
      "metadata": {
        "id": "FlBMxEDBUc9B"
      },
      "source": [
        "## 5. Tidying the Dataset"
      ]
    },
    {
      "cell_type": "code",
      "metadata": {
        "id": "PvCYb6dgW4yh",
        "colab": {
          "base_uri": "https://localhost:8080/"
        },
        "outputId": "77a01cbe-2b2c-45b9-ec15-e124bd2773f7"
      },
      "source": [
        "# Identifying the Missing Data\n",
        "#rankings\n",
        "rankings.isnull().sum()"
      ],
      "execution_count": 1054,
      "outputs": [
        {
          "output_type": "execute_result",
          "data": {
            "text/plain": [
              "rank                       0\n",
              "country_full               0\n",
              "country_abrv               0\n",
              "total_points               0\n",
              "previous_points            0\n",
              "rank_change                0\n",
              "cur_year_avg               0\n",
              "cur_year_avg_weighted      0\n",
              "last_year_avg              0\n",
              "last_year_avg_weighted     0\n",
              "two_year_ago_avg           0\n",
              "two_year_ago_weighted      0\n",
              "three_year_ago_avg         0\n",
              "three_year_ago_weighted    0\n",
              "confederation              0\n",
              "rank_date                  0\n",
              "dtype: int64"
            ]
          },
          "metadata": {},
          "execution_count": 1054
        }
      ]
    },
    {
      "cell_type": "code",
      "metadata": {
        "colab": {
          "base_uri": "https://localhost:8080/"
        },
        "id": "wYq8j6MeuGFO",
        "outputId": "df230ad7-b981-4998-f242-25b87426ba63"
      },
      "source": [
        "# Identifying the Missing Data\n",
        "#Results \n",
        "results.isnull().sum()"
      ],
      "execution_count": 1055,
      "outputs": [
        {
          "output_type": "execute_result",
          "data": {
            "text/plain": [
              "date          0\n",
              "home_team     0\n",
              "away_team     0\n",
              "home_score    0\n",
              "away_score    0\n",
              "tournament    0\n",
              "city          0\n",
              "country       0\n",
              "neutral       0\n",
              "dtype: int64"
            ]
          },
          "metadata": {},
          "execution_count": 1055
        }
      ]
    },
    {
      "cell_type": "code",
      "metadata": {
        "id": "D-4I__6Os4C5",
        "colab": {
          "base_uri": "https://localhost:8080/"
        },
        "outputId": "720cdb0e-2071-46df-ea32-d30c11e53ab2"
      },
      "source": [
        "# More data cleaning procedures\n",
        "#checking for duplicates\n",
        "rankings.duplicated().sum()"
      ],
      "execution_count": 1056,
      "outputs": [
        {
          "output_type": "execute_result",
          "data": {
            "text/plain": [
              "37"
            ]
          },
          "metadata": {},
          "execution_count": 1056
        }
      ]
    },
    {
      "cell_type": "code",
      "metadata": {
        "id": "WLhn8h7tu5IB"
      },
      "source": [
        "#Dealing with duplicates\n",
        "#rankings.drop_duplicates()\n",
        "rankings.drop_duplicates(inplace=True)"
      ],
      "execution_count": 1057,
      "outputs": []
    },
    {
      "cell_type": "code",
      "metadata": {
        "colab": {
          "base_uri": "https://localhost:8080/"
        },
        "id": "KKev0WcXuvRk",
        "outputId": "ac9de94c-e1a2-45b7-c8eb-c5bbe8d8b485"
      },
      "source": [
        "# More data cleaning procedures\n",
        "#checking for duplicates\n",
        "results.duplicated().sum()"
      ],
      "execution_count": 1058,
      "outputs": [
        {
          "output_type": "execute_result",
          "data": {
            "text/plain": [
              "0"
            ]
          },
          "metadata": {},
          "execution_count": 1058
        }
      ]
    },
    {
      "cell_type": "code",
      "metadata": {
        "id": "qTuwbq_9ydWg"
      },
      "source": [
        "#renaming column names country on the rankings table\n",
        "rankings.rename(columns={'country_full': 'country',\"rank_date\":\"date\"}, inplace=True)\n",
        "#converting date column to date tyme datatype\n",
        "rankings.date = pd.to_datetime(rankings.date)\n",
        "# Locating the year from the rank date \n",
        "rankings.date = pd.to_datetime(rankings.date)\n",
        "rankings['year'] = rankings.date.dt.year\n",
        "rankings['month'] =rankings.date.dt.month"
      ],
      "execution_count": 1059,
      "outputs": []
    },
    {
      "cell_type": "code",
      "metadata": {
        "colab": {
          "base_uri": "https://localhost:8080/",
          "height": 475
        },
        "id": "Vy76YX0vTKgh",
        "outputId": "528e81f1-fd72-44f0-ecb5-6dd5d482e957"
      },
      "source": [
        "# results dataset\n",
        "#converting date column to date tyme datatype\n",
        "results.date = pd.to_datetime(results.date)\n",
        "# Locating the year from the rank date \n",
        "results.date = pd.to_datetime(results.date)\n",
        "results['year'] = results.date.dt.year\n",
        "results['month'] =results.date.dt.month\n",
        "# Dropping the irrelevant columns from  our datasets\n",
        "results.drop(columns =[\"city\",\"date\"])"
      ],
      "execution_count": 1060,
      "outputs": [
        {
          "output_type": "execute_result",
          "data": {
            "text/html": [
              "<div>\n",
              "<style scoped>\n",
              "    .dataframe tbody tr th:only-of-type {\n",
              "        vertical-align: middle;\n",
              "    }\n",
              "\n",
              "    .dataframe tbody tr th {\n",
              "        vertical-align: top;\n",
              "    }\n",
              "\n",
              "    .dataframe thead th {\n",
              "        text-align: right;\n",
              "    }\n",
              "</style>\n",
              "<table border=\"1\" class=\"dataframe\">\n",
              "  <thead>\n",
              "    <tr style=\"text-align: right;\">\n",
              "      <th></th>\n",
              "      <th>home_team</th>\n",
              "      <th>away_team</th>\n",
              "      <th>home_score</th>\n",
              "      <th>away_score</th>\n",
              "      <th>tournament</th>\n",
              "      <th>country</th>\n",
              "      <th>neutral</th>\n",
              "      <th>year</th>\n",
              "      <th>month</th>\n",
              "    </tr>\n",
              "  </thead>\n",
              "  <tbody>\n",
              "    <tr>\n",
              "      <th>0</th>\n",
              "      <td>Scotland</td>\n",
              "      <td>England</td>\n",
              "      <td>0</td>\n",
              "      <td>0</td>\n",
              "      <td>Friendly</td>\n",
              "      <td>Scotland</td>\n",
              "      <td>False</td>\n",
              "      <td>1872</td>\n",
              "      <td>11</td>\n",
              "    </tr>\n",
              "    <tr>\n",
              "      <th>1</th>\n",
              "      <td>England</td>\n",
              "      <td>Scotland</td>\n",
              "      <td>4</td>\n",
              "      <td>2</td>\n",
              "      <td>Friendly</td>\n",
              "      <td>England</td>\n",
              "      <td>False</td>\n",
              "      <td>1873</td>\n",
              "      <td>3</td>\n",
              "    </tr>\n",
              "    <tr>\n",
              "      <th>2</th>\n",
              "      <td>Scotland</td>\n",
              "      <td>England</td>\n",
              "      <td>2</td>\n",
              "      <td>1</td>\n",
              "      <td>Friendly</td>\n",
              "      <td>Scotland</td>\n",
              "      <td>False</td>\n",
              "      <td>1874</td>\n",
              "      <td>3</td>\n",
              "    </tr>\n",
              "    <tr>\n",
              "      <th>3</th>\n",
              "      <td>England</td>\n",
              "      <td>Scotland</td>\n",
              "      <td>2</td>\n",
              "      <td>2</td>\n",
              "      <td>Friendly</td>\n",
              "      <td>England</td>\n",
              "      <td>False</td>\n",
              "      <td>1875</td>\n",
              "      <td>3</td>\n",
              "    </tr>\n",
              "    <tr>\n",
              "      <th>4</th>\n",
              "      <td>Scotland</td>\n",
              "      <td>England</td>\n",
              "      <td>3</td>\n",
              "      <td>0</td>\n",
              "      <td>Friendly</td>\n",
              "      <td>Scotland</td>\n",
              "      <td>False</td>\n",
              "      <td>1876</td>\n",
              "      <td>3</td>\n",
              "    </tr>\n",
              "    <tr>\n",
              "      <th>...</th>\n",
              "      <td>...</td>\n",
              "      <td>...</td>\n",
              "      <td>...</td>\n",
              "      <td>...</td>\n",
              "      <td>...</td>\n",
              "      <td>...</td>\n",
              "      <td>...</td>\n",
              "      <td>...</td>\n",
              "      <td>...</td>\n",
              "    </tr>\n",
              "    <tr>\n",
              "      <th>40834</th>\n",
              "      <td>American Samoa</td>\n",
              "      <td>Tahiti</td>\n",
              "      <td>8</td>\n",
              "      <td>1</td>\n",
              "      <td>Pacific Games</td>\n",
              "      <td>Samoa</td>\n",
              "      <td>True</td>\n",
              "      <td>2019</td>\n",
              "      <td>7</td>\n",
              "    </tr>\n",
              "    <tr>\n",
              "      <th>40835</th>\n",
              "      <td>Fiji</td>\n",
              "      <td>Solomon Islands</td>\n",
              "      <td>4</td>\n",
              "      <td>4</td>\n",
              "      <td>Pacific Games</td>\n",
              "      <td>Samoa</td>\n",
              "      <td>True</td>\n",
              "      <td>2019</td>\n",
              "      <td>7</td>\n",
              "    </tr>\n",
              "    <tr>\n",
              "      <th>40836</th>\n",
              "      <td>Senegal</td>\n",
              "      <td>Algeria</td>\n",
              "      <td>0</td>\n",
              "      <td>1</td>\n",
              "      <td>African Cup of Nations</td>\n",
              "      <td>Egypt</td>\n",
              "      <td>True</td>\n",
              "      <td>2019</td>\n",
              "      <td>7</td>\n",
              "    </tr>\n",
              "    <tr>\n",
              "      <th>40837</th>\n",
              "      <td>Tajikistan</td>\n",
              "      <td>North Korea</td>\n",
              "      <td>0</td>\n",
              "      <td>1</td>\n",
              "      <td>Intercontinental Cup</td>\n",
              "      <td>India</td>\n",
              "      <td>True</td>\n",
              "      <td>2019</td>\n",
              "      <td>7</td>\n",
              "    </tr>\n",
              "    <tr>\n",
              "      <th>40838</th>\n",
              "      <td>Papua New Guinea</td>\n",
              "      <td>Fiji</td>\n",
              "      <td>1</td>\n",
              "      <td>1</td>\n",
              "      <td>Pacific Games</td>\n",
              "      <td>Samoa</td>\n",
              "      <td>True</td>\n",
              "      <td>2019</td>\n",
              "      <td>7</td>\n",
              "    </tr>\n",
              "  </tbody>\n",
              "</table>\n",
              "<p>40839 rows × 9 columns</p>\n",
              "</div>"
            ],
            "text/plain": [
              "              home_team        away_team  home_score  ...  neutral  year month\n",
              "0              Scotland          England           0  ...    False  1872    11\n",
              "1               England         Scotland           4  ...    False  1873     3\n",
              "2              Scotland          England           2  ...    False  1874     3\n",
              "3               England         Scotland           2  ...    False  1875     3\n",
              "4              Scotland          England           3  ...    False  1876     3\n",
              "...                 ...              ...         ...  ...      ...   ...   ...\n",
              "40834    American Samoa           Tahiti           8  ...     True  2019     7\n",
              "40835              Fiji  Solomon Islands           4  ...     True  2019     7\n",
              "40836           Senegal          Algeria           0  ...     True  2019     7\n",
              "40837        Tajikistan      North Korea           0  ...     True  2019     7\n",
              "40838  Papua New Guinea             Fiji           1  ...     True  2019     7\n",
              "\n",
              "[40839 rows x 9 columns]"
            ]
          },
          "metadata": {},
          "execution_count": 1060
        }
      ]
    },
    {
      "cell_type": "code",
      "metadata": {
        "id": "mB3khTWXy4sT"
      },
      "source": [
        "# we notice that the ranking dataset started in 1993 and results started in 1872\n",
        "# therefore we can drop all the data before 1993 in the results dataset\n",
        "results = results[results['year'] >= 1993]"
      ],
      "execution_count": 1061,
      "outputs": []
    },
    {
      "cell_type": "code",
      "metadata": {
        "id": "XbQWt-7FMeIL"
      },
      "source": [
        "# Dropping the irrelevant columns from  our datasets\n",
        "# ranking dataset\n",
        "rankings.drop(columns = [\"date\",\"country_abrv\",'cur_year_avg', 'cur_year_avg_weighted', 'last_year_avg', 'last_year_avg_weighted', 'two_year_ago_avg', 'two_year_ago_weighted',\t\"three_year_ago_avg\",\"three_year_ago_weighted\"],inplace=True)"
      ],
      "execution_count": 1062,
      "outputs": []
    },
    {
      "cell_type": "code",
      "metadata": {
        "colab": {
          "base_uri": "https://localhost:8080/",
          "height": 98
        },
        "id": "d86Crx8R0DG8",
        "outputId": "60f45f94-48e6-4b28-d5b7-40e25fe3ba54"
      },
      "source": [
        "results.head(1)"
      ],
      "execution_count": 1063,
      "outputs": [
        {
          "output_type": "execute_result",
          "data": {
            "text/html": [
              "<div>\n",
              "<style scoped>\n",
              "    .dataframe tbody tr th:only-of-type {\n",
              "        vertical-align: middle;\n",
              "    }\n",
              "\n",
              "    .dataframe tbody tr th {\n",
              "        vertical-align: top;\n",
              "    }\n",
              "\n",
              "    .dataframe thead th {\n",
              "        text-align: right;\n",
              "    }\n",
              "</style>\n",
              "<table border=\"1\" class=\"dataframe\">\n",
              "  <thead>\n",
              "    <tr style=\"text-align: right;\">\n",
              "      <th></th>\n",
              "      <th>date</th>\n",
              "      <th>home_team</th>\n",
              "      <th>away_team</th>\n",
              "      <th>home_score</th>\n",
              "      <th>away_score</th>\n",
              "      <th>tournament</th>\n",
              "      <th>city</th>\n",
              "      <th>country</th>\n",
              "      <th>neutral</th>\n",
              "      <th>year</th>\n",
              "      <th>month</th>\n",
              "    </tr>\n",
              "  </thead>\n",
              "  <tbody>\n",
              "    <tr>\n",
              "      <th>17361</th>\n",
              "      <td>1993-01-01</td>\n",
              "      <td>Ghana</td>\n",
              "      <td>Mali</td>\n",
              "      <td>1</td>\n",
              "      <td>1</td>\n",
              "      <td>Friendly</td>\n",
              "      <td>Libreville</td>\n",
              "      <td>Gabon</td>\n",
              "      <td>True</td>\n",
              "      <td>1993</td>\n",
              "      <td>1</td>\n",
              "    </tr>\n",
              "  </tbody>\n",
              "</table>\n",
              "</div>"
            ],
            "text/plain": [
              "            date home_team away_team  home_score  ...  country neutral  year month\n",
              "17361 1993-01-01     Ghana      Mali           1  ...    Gabon    True  1993     1\n",
              "\n",
              "[1 rows x 11 columns]"
            ]
          },
          "metadata": {},
          "execution_count": 1063
        }
      ]
    },
    {
      "cell_type": "code",
      "metadata": {
        "colab": {
          "base_uri": "https://localhost:8080/",
          "height": 81
        },
        "id": "GpScc8iG0Hky",
        "outputId": "7254396c-1259-42cc-9376-b97e1a50ac7d"
      },
      "source": [
        "rankings.head(1)"
      ],
      "execution_count": 1064,
      "outputs": [
        {
          "output_type": "execute_result",
          "data": {
            "text/html": [
              "<div>\n",
              "<style scoped>\n",
              "    .dataframe tbody tr th:only-of-type {\n",
              "        vertical-align: middle;\n",
              "    }\n",
              "\n",
              "    .dataframe tbody tr th {\n",
              "        vertical-align: top;\n",
              "    }\n",
              "\n",
              "    .dataframe thead th {\n",
              "        text-align: right;\n",
              "    }\n",
              "</style>\n",
              "<table border=\"1\" class=\"dataframe\">\n",
              "  <thead>\n",
              "    <tr style=\"text-align: right;\">\n",
              "      <th></th>\n",
              "      <th>rank</th>\n",
              "      <th>country</th>\n",
              "      <th>total_points</th>\n",
              "      <th>previous_points</th>\n",
              "      <th>rank_change</th>\n",
              "      <th>confederation</th>\n",
              "      <th>year</th>\n",
              "      <th>month</th>\n",
              "    </tr>\n",
              "  </thead>\n",
              "  <tbody>\n",
              "    <tr>\n",
              "      <th>0</th>\n",
              "      <td>1</td>\n",
              "      <td>Germany</td>\n",
              "      <td>0.0</td>\n",
              "      <td>57</td>\n",
              "      <td>0</td>\n",
              "      <td>UEFA</td>\n",
              "      <td>1993</td>\n",
              "      <td>8</td>\n",
              "    </tr>\n",
              "  </tbody>\n",
              "</table>\n",
              "</div>"
            ],
            "text/plain": [
              "   rank  country  total_points  ...  confederation  year month\n",
              "0     1  Germany           0.0  ...           UEFA  1993     8\n",
              "\n",
              "[1 rows x 8 columns]"
            ]
          },
          "metadata": {},
          "execution_count": 1064
        }
      ]
    },
    {
      "cell_type": "markdown",
      "metadata": {
        "id": "of3xXC7-wVpU"
      },
      "source": [
        "## 6. Merging the datasets"
      ]
    },
    {
      "cell_type": "code",
      "metadata": {
        "id": "8EFtjtfKFBLX"
      },
      "source": [
        "#merging the rankings and results dataset\n",
        "# We create a dataframe to get the away team rank\n",
        "rank_away = pd.merge(rankings, results, left_on= ['year','month','country'], right_on= ['year','month','away_team'], how='inner')\n",
        "\n",
        "# We then drop the unnecessary columns\n",
        "rank_away.drop(['country_x','rank_change'], axis=1, inplace=True)\n"
      ],
      "execution_count": 1065,
      "outputs": []
    },
    {
      "cell_type": "code",
      "metadata": {
        "colab": {
          "base_uri": "https://localhost:8080/",
          "height": 118
        },
        "id": "pYvGS24KGCHq",
        "outputId": "bd0b178f-936c-452f-e546-f34b6d1cb503"
      },
      "source": [
        "# Rename the country column and the rank to home team rank\n",
        "rank_away.rename({'country_y':'country'}, axis=1, inplace=True)\n",
        "rank_away.rename({'rank':'away_team_rank'}, axis=1, inplace=True)\n",
        "rank_away.head(1)"
      ],
      "execution_count": 1066,
      "outputs": [
        {
          "output_type": "execute_result",
          "data": {
            "text/html": [
              "<div>\n",
              "<style scoped>\n",
              "    .dataframe tbody tr th:only-of-type {\n",
              "        vertical-align: middle;\n",
              "    }\n",
              "\n",
              "    .dataframe tbody tr th {\n",
              "        vertical-align: top;\n",
              "    }\n",
              "\n",
              "    .dataframe thead th {\n",
              "        text-align: right;\n",
              "    }\n",
              "</style>\n",
              "<table border=\"1\" class=\"dataframe\">\n",
              "  <thead>\n",
              "    <tr style=\"text-align: right;\">\n",
              "      <th></th>\n",
              "      <th>away_team_rank</th>\n",
              "      <th>total_points</th>\n",
              "      <th>previous_points</th>\n",
              "      <th>confederation</th>\n",
              "      <th>year</th>\n",
              "      <th>month</th>\n",
              "      <th>date</th>\n",
              "      <th>home_team</th>\n",
              "      <th>away_team</th>\n",
              "      <th>home_score</th>\n",
              "      <th>away_score</th>\n",
              "      <th>tournament</th>\n",
              "      <th>city</th>\n",
              "      <th>country</th>\n",
              "      <th>neutral</th>\n",
              "    </tr>\n",
              "  </thead>\n",
              "  <tbody>\n",
              "    <tr>\n",
              "      <th>0</th>\n",
              "      <td>3</td>\n",
              "      <td>0.0</td>\n",
              "      <td>50</td>\n",
              "      <td>UEFA</td>\n",
              "      <td>1993</td>\n",
              "      <td>8</td>\n",
              "      <td>1993-08-11</td>\n",
              "      <td>Sweden</td>\n",
              "      <td>Switzerland</td>\n",
              "      <td>1</td>\n",
              "      <td>2</td>\n",
              "      <td>Friendly</td>\n",
              "      <td>Borås</td>\n",
              "      <td>Sweden</td>\n",
              "      <td>False</td>\n",
              "    </tr>\n",
              "  </tbody>\n",
              "</table>\n",
              "</div>"
            ],
            "text/plain": [
              "   away_team_rank  total_points  previous_points  ...   city  country  neutral\n",
              "0               3           0.0               50  ...  Borås   Sweden    False\n",
              "\n",
              "[1 rows x 15 columns]"
            ]
          },
          "metadata": {},
          "execution_count": 1066
        }
      ]
    },
    {
      "cell_type": "code",
      "metadata": {
        "id": "pP5fn0ULwkYO"
      },
      "source": [
        "#merging the rankings and results dataset\n",
        "# so as to create home team rank \n",
        "rank_home = pd.merge(rankings, results, left_on= ['year','month','country'], right_on= ['year','month','home_team'], how='inner')\n"
      ],
      "execution_count": 1067,
      "outputs": []
    },
    {
      "cell_type": "code",
      "metadata": {
        "colab": {
          "base_uri": "https://localhost:8080/",
          "height": 118
        },
        "id": "KRdBsnxhCaef",
        "outputId": "642f2659-bb28-452d-d12b-7aff788b5851"
      },
      "source": [
        "# We then drop the unnecessary columns\n",
        "rank_home.drop(['country_x','rank_change'], axis=1, inplace=True)\n",
        "\n",
        "# Rename the country column and the rank to home team rank\n",
        "rank_home.rename({'country_y':'country'}, axis=1, inplace=True)\n",
        "rank_home.rename({'rank':'home_team_rank'}, axis=1, inplace=True)\n",
        "rank_home.head(1)\n"
      ],
      "execution_count": 1068,
      "outputs": [
        {
          "output_type": "execute_result",
          "data": {
            "text/html": [
              "<div>\n",
              "<style scoped>\n",
              "    .dataframe tbody tr th:only-of-type {\n",
              "        vertical-align: middle;\n",
              "    }\n",
              "\n",
              "    .dataframe tbody tr th {\n",
              "        vertical-align: top;\n",
              "    }\n",
              "\n",
              "    .dataframe thead th {\n",
              "        text-align: right;\n",
              "    }\n",
              "</style>\n",
              "<table border=\"1\" class=\"dataframe\">\n",
              "  <thead>\n",
              "    <tr style=\"text-align: right;\">\n",
              "      <th></th>\n",
              "      <th>home_team_rank</th>\n",
              "      <th>total_points</th>\n",
              "      <th>previous_points</th>\n",
              "      <th>confederation</th>\n",
              "      <th>year</th>\n",
              "      <th>month</th>\n",
              "      <th>date</th>\n",
              "      <th>home_team</th>\n",
              "      <th>away_team</th>\n",
              "      <th>home_score</th>\n",
              "      <th>away_score</th>\n",
              "      <th>tournament</th>\n",
              "      <th>city</th>\n",
              "      <th>country</th>\n",
              "      <th>neutral</th>\n",
              "    </tr>\n",
              "  </thead>\n",
              "  <tbody>\n",
              "    <tr>\n",
              "      <th>0</th>\n",
              "      <td>4</td>\n",
              "      <td>0.0</td>\n",
              "      <td>55</td>\n",
              "      <td>UEFA</td>\n",
              "      <td>1993</td>\n",
              "      <td>8</td>\n",
              "      <td>1993-08-11</td>\n",
              "      <td>Sweden</td>\n",
              "      <td>Switzerland</td>\n",
              "      <td>1</td>\n",
              "      <td>2</td>\n",
              "      <td>Friendly</td>\n",
              "      <td>Borås</td>\n",
              "      <td>Sweden</td>\n",
              "      <td>False</td>\n",
              "    </tr>\n",
              "  </tbody>\n",
              "</table>\n",
              "</div>"
            ],
            "text/plain": [
              "   home_team_rank  total_points  previous_points  ...   city  country  neutral\n",
              "0               4           0.0               55  ...  Borås   Sweden    False\n",
              "\n",
              "[1 rows x 15 columns]"
            ]
          },
          "metadata": {},
          "execution_count": 1068
        }
      ]
    },
    {
      "cell_type": "code",
      "metadata": {
        "colab": {
          "base_uri": "https://localhost:8080/",
          "height": 118
        },
        "id": "O8wn73meJI6E",
        "outputId": "0e95eaec-2be1-4496-eb91-78197867e03c"
      },
      "source": [
        "# Lets merge the two datasets to get a general dataset that has both the home rank and away rank\n",
        "df = pd.merge(rank_home, rank_away, how = 'inner', left_on = ['year','month','away_team'], right_on = ['year','month','away_team'])\n",
        "df.head(1)"
      ],
      "execution_count": 1069,
      "outputs": [
        {
          "output_type": "execute_result",
          "data": {
            "text/html": [
              "<div>\n",
              "<style scoped>\n",
              "    .dataframe tbody tr th:only-of-type {\n",
              "        vertical-align: middle;\n",
              "    }\n",
              "\n",
              "    .dataframe tbody tr th {\n",
              "        vertical-align: top;\n",
              "    }\n",
              "\n",
              "    .dataframe thead th {\n",
              "        text-align: right;\n",
              "    }\n",
              "</style>\n",
              "<table border=\"1\" class=\"dataframe\">\n",
              "  <thead>\n",
              "    <tr style=\"text-align: right;\">\n",
              "      <th></th>\n",
              "      <th>home_team_rank</th>\n",
              "      <th>total_points_x</th>\n",
              "      <th>previous_points_x</th>\n",
              "      <th>confederation_x</th>\n",
              "      <th>year</th>\n",
              "      <th>month</th>\n",
              "      <th>date_x</th>\n",
              "      <th>home_team_x</th>\n",
              "      <th>away_team</th>\n",
              "      <th>home_score_x</th>\n",
              "      <th>away_score_x</th>\n",
              "      <th>tournament_x</th>\n",
              "      <th>city_x</th>\n",
              "      <th>country_x</th>\n",
              "      <th>neutral_x</th>\n",
              "      <th>away_team_rank</th>\n",
              "      <th>total_points_y</th>\n",
              "      <th>previous_points_y</th>\n",
              "      <th>confederation_y</th>\n",
              "      <th>date_y</th>\n",
              "      <th>home_team_y</th>\n",
              "      <th>home_score_y</th>\n",
              "      <th>away_score_y</th>\n",
              "      <th>tournament_y</th>\n",
              "      <th>city_y</th>\n",
              "      <th>country_y</th>\n",
              "      <th>neutral_y</th>\n",
              "    </tr>\n",
              "  </thead>\n",
              "  <tbody>\n",
              "    <tr>\n",
              "      <th>0</th>\n",
              "      <td>4</td>\n",
              "      <td>0.0</td>\n",
              "      <td>55</td>\n",
              "      <td>UEFA</td>\n",
              "      <td>1993</td>\n",
              "      <td>8</td>\n",
              "      <td>1993-08-11</td>\n",
              "      <td>Sweden</td>\n",
              "      <td>Switzerland</td>\n",
              "      <td>1</td>\n",
              "      <td>2</td>\n",
              "      <td>Friendly</td>\n",
              "      <td>Borås</td>\n",
              "      <td>Sweden</td>\n",
              "      <td>False</td>\n",
              "      <td>3</td>\n",
              "      <td>0.0</td>\n",
              "      <td>50</td>\n",
              "      <td>UEFA</td>\n",
              "      <td>1993-08-11</td>\n",
              "      <td>Sweden</td>\n",
              "      <td>1</td>\n",
              "      <td>2</td>\n",
              "      <td>Friendly</td>\n",
              "      <td>Borås</td>\n",
              "      <td>Sweden</td>\n",
              "      <td>False</td>\n",
              "    </tr>\n",
              "  </tbody>\n",
              "</table>\n",
              "</div>"
            ],
            "text/plain": [
              "   home_team_rank  total_points_x  ...  country_y neutral_y\n",
              "0               4             0.0  ...     Sweden     False\n",
              "\n",
              "[1 rows x 27 columns]"
            ]
          },
          "metadata": {},
          "execution_count": 1069
        }
      ]
    },
    {
      "cell_type": "code",
      "metadata": {
        "colab": {
          "base_uri": "https://localhost:8080/"
        },
        "id": "kmQlbtibINHS",
        "outputId": "00906d61-9886-4d4c-b2a0-2f9a11b1c142"
      },
      "source": [
        "# Lets drop the redundant columns \n",
        "df.drop(['total_points_x','previous_points_x','home_team_x','tournament_x','country_x','neutral_x','home_score_x','away_score_x'], axis = 1, inplace=True)\n",
        "\n",
        "# Lets also rename the remaining columns\n",
        "df.rename({'total_points_y':'total_points'}, axis = 1, inplace=True)\n",
        "df.rename({'previous_points_y':'previous_points'}, axis = 1, inplace=True)\n",
        "df.rename({'home_team_y':'home_team'}, axis = 1, inplace=True)\n",
        "df.rename({'away_score_y':'away_score'}, axis = 1, inplace=True)\n",
        "df.rename({'home_score_y':'home_score'}, axis = 1, inplace=True)\n",
        "df.rename({'tournament_y':'tournament'}, axis = 1, inplace=True)\n",
        "df.rename({'country_y':'country'}, axis = 1, inplace=True)\n",
        "df.rename({'neutral_y':'neutral'}, axis = 1, inplace=True)\n",
        "\n",
        "df.shape"
      ],
      "execution_count": 1070,
      "outputs": [
        {
          "output_type": "execute_result",
          "data": {
            "text/plain": [
              "(28439, 19)"
            ]
          },
          "metadata": {},
          "execution_count": 1070
        }
      ]
    },
    {
      "cell_type": "markdown",
      "metadata": {
        "id": "rF2ABPsHUtbZ"
      },
      "source": [
        "## 7. Exploratory Analysis"
      ]
    },
    {
      "cell_type": "markdown",
      "metadata": {
        "id": "vv1mW8JTLZQ2"
      },
      "source": [
        "## Univariate analysis"
      ]
    },
    {
      "cell_type": "code",
      "metadata": {
        "id": "5nnRToniXGDK",
        "colab": {
          "base_uri": "https://localhost:8080/"
        },
        "outputId": "b5497778-abb7-4ac6-d76a-ecb4450f09d4"
      },
      "source": [
        "#Numerical variables\n",
        "#mean for home and away scores\n",
        "print(\"The mean of the home score is: \", df['home_score'].mean())\n",
        "print(\"The mean of the away score is: \", df['away_score'].mean())"
      ],
      "execution_count": 1071,
      "outputs": [
        {
          "output_type": "stream",
          "name": "stdout",
          "text": [
            "The mean of the home score is:  1.5982629487675375\n",
            "The mean of the away score is:  1.1081964907345547\n"
          ]
        }
      ]
    },
    {
      "cell_type": "code",
      "metadata": {
        "colab": {
          "base_uri": "https://localhost:8080/"
        },
        "id": "DcP5gbPYQ67G",
        "outputId": "06deafa2-a656-4ccc-af12-c032f3df687b"
      },
      "source": [
        "#mode for home and away scores\n",
        "print(\"The mode of the home score is: \", df['home_score'].mode())\n",
        "print(\"The mode of the away score is: \", df['away_score'].mode())"
      ],
      "execution_count": 1072,
      "outputs": [
        {
          "output_type": "stream",
          "name": "stdout",
          "text": [
            "The mode of the home score is:  0    1\n",
            "dtype: int64\n",
            "The mode of the away score is:  0    0\n",
            "dtype: int64\n"
          ]
        }
      ]
    },
    {
      "cell_type": "code",
      "metadata": {
        "colab": {
          "base_uri": "https://localhost:8080/"
        },
        "id": "TGwSuwE4QQFm",
        "outputId": "172291aa-e966-44a3-be13-09552dcb4db5"
      },
      "source": [
        "#median for home and away scores\n",
        "print(\"The median of the home score is: \", df['home_score'].median())\n",
        "print(\"The median of the away score is: \", df['away_score'].median())"
      ],
      "execution_count": 1073,
      "outputs": [
        {
          "output_type": "stream",
          "name": "stdout",
          "text": [
            "The median of the home score is:  1.0\n",
            "The median of the away score is:  1.0\n"
          ]
        }
      ]
    },
    {
      "cell_type": "code",
      "metadata": {
        "colab": {
          "base_uri": "https://localhost:8080/"
        },
        "id": "2HlU_bjWUr4R",
        "outputId": "2b71ab16-34d1-4b7f-9aa6-98a4ea4b841f"
      },
      "source": [
        "#Measures of central tendency\n",
        "#Variance\n",
        "df.var()"
      ],
      "execution_count": 1074,
      "outputs": [
        {
          "output_type": "execute_result",
          "data": {
            "text/plain": [
              "home_team_rank      2610.927133\n",
              "year                  46.842089\n",
              "month                 11.275362\n",
              "away_team_rank      2764.148577\n",
              "total_points       87593.000931\n",
              "previous_points    98069.044495\n",
              "home_score             2.686305\n",
              "away_score             1.721010\n",
              "neutral                0.218382\n",
              "dtype: float64"
            ]
          },
          "metadata": {},
          "execution_count": 1074
        }
      ]
    },
    {
      "cell_type": "code",
      "metadata": {
        "colab": {
          "base_uri": "https://localhost:8080/"
        },
        "id": "IV-JuTSaqoav",
        "outputId": "98941c22-363c-4364-9185-21537f2db98e"
      },
      "source": [
        "#Kurtosis\n",
        "df.kurt()"
      ],
      "execution_count": 1075,
      "outputs": [
        {
          "output_type": "execute_result",
          "data": {
            "text/plain": [
              "home_team_rank     -0.733724\n",
              "year               -1.127915\n",
              "month              -1.141479\n",
              "away_team_rank     -0.772951\n",
              "total_points        4.762385\n",
              "previous_points     1.094440\n",
              "home_score         18.121727\n",
              "away_score         11.979576\n",
              "neutral            -1.420741\n",
              "dtype: float64"
            ]
          },
          "metadata": {},
          "execution_count": 1075
        }
      ]
    },
    {
      "cell_type": "code",
      "metadata": {
        "colab": {
          "base_uri": "https://localhost:8080/"
        },
        "id": "n1kt88lOqt28",
        "outputId": "48448843-4c4d-47dc-9e50-9ba91f7b8bbe"
      },
      "source": [
        "#standard deviation\n",
        "df.std()"
      ],
      "execution_count": 1076,
      "outputs": [
        {
          "output_type": "execute_result",
          "data": {
            "text/plain": [
              "home_team_rank      51.097232\n",
              "year                 6.844128\n",
              "month                3.357881\n",
              "away_team_rank      52.575171\n",
              "total_points       295.961148\n",
              "previous_points    313.159775\n",
              "home_score           1.638995\n",
              "away_score           1.311873\n",
              "neutral              0.467313\n",
              "dtype: float64"
            ]
          },
          "metadata": {},
          "execution_count": 1076
        }
      ]
    },
    {
      "cell_type": "code",
      "metadata": {
        "colab": {
          "base_uri": "https://localhost:8080/"
        },
        "id": "t-LANL8JrrMT",
        "outputId": "0bf7297b-6e01-458c-a69d-0b4768d6c757"
      },
      "source": [
        "# Determining the skeweness\n",
        "df.skew()"
      ],
      "execution_count": 1077,
      "outputs": [
        {
          "output_type": "execute_result",
          "data": {
            "text/plain": [
              "home_team_rank     0.400985\n",
              "year              -0.045503\n",
              "month             -0.123960\n",
              "away_team_rank     0.398214\n",
              "total_points       2.241797\n",
              "previous_points    0.905714\n",
              "home_score         2.558169\n",
              "away_score         2.315109\n",
              "neutral            0.761156\n",
              "dtype: float64"
            ]
          },
          "metadata": {},
          "execution_count": 1077
        }
      ]
    },
    {
      "cell_type": "code",
      "metadata": {
        "colab": {
          "base_uri": "https://localhost:8080/",
          "height": 320
        },
        "id": "OvByU-MErHm8",
        "outputId": "bc8df1f1-9c5e-4fb2-b47c-0dc1298ac06f"
      },
      "source": [
        "#summary statistics\n",
        "df.describe()"
      ],
      "execution_count": 1078,
      "outputs": [
        {
          "output_type": "execute_result",
          "data": {
            "text/html": [
              "<div>\n",
              "<style scoped>\n",
              "    .dataframe tbody tr th:only-of-type {\n",
              "        vertical-align: middle;\n",
              "    }\n",
              "\n",
              "    .dataframe tbody tr th {\n",
              "        vertical-align: top;\n",
              "    }\n",
              "\n",
              "    .dataframe thead th {\n",
              "        text-align: right;\n",
              "    }\n",
              "</style>\n",
              "<table border=\"1\" class=\"dataframe\">\n",
              "  <thead>\n",
              "    <tr style=\"text-align: right;\">\n",
              "      <th></th>\n",
              "      <th>home_team_rank</th>\n",
              "      <th>year</th>\n",
              "      <th>month</th>\n",
              "      <th>away_team_rank</th>\n",
              "      <th>total_points</th>\n",
              "      <th>previous_points</th>\n",
              "      <th>home_score</th>\n",
              "      <th>away_score</th>\n",
              "    </tr>\n",
              "  </thead>\n",
              "  <tbody>\n",
              "    <tr>\n",
              "      <th>count</th>\n",
              "      <td>28439.000000</td>\n",
              "      <td>28439.000000</td>\n",
              "      <td>28439.000000</td>\n",
              "      <td>28439.000000</td>\n",
              "      <td>28439.000000</td>\n",
              "      <td>28439.000000</td>\n",
              "      <td>28439.000000</td>\n",
              "      <td>28439.000000</td>\n",
              "    </tr>\n",
              "    <tr>\n",
              "      <th>mean</th>\n",
              "      <td>78.387813</td>\n",
              "      <td>2006.179437</td>\n",
              "      <td>6.720841</td>\n",
              "      <td>81.409192</td>\n",
              "      <td>150.115241</td>\n",
              "      <td>407.358627</td>\n",
              "      <td>1.598263</td>\n",
              "      <td>1.108196</td>\n",
              "    </tr>\n",
              "    <tr>\n",
              "      <th>std</th>\n",
              "      <td>51.097232</td>\n",
              "      <td>6.844128</td>\n",
              "      <td>3.357881</td>\n",
              "      <td>52.575171</td>\n",
              "      <td>295.961148</td>\n",
              "      <td>313.159775</td>\n",
              "      <td>1.638995</td>\n",
              "      <td>1.311873</td>\n",
              "    </tr>\n",
              "    <tr>\n",
              "      <th>min</th>\n",
              "      <td>1.000000</td>\n",
              "      <td>1993.000000</td>\n",
              "      <td>1.000000</td>\n",
              "      <td>1.000000</td>\n",
              "      <td>0.000000</td>\n",
              "      <td>0.000000</td>\n",
              "      <td>0.000000</td>\n",
              "      <td>0.000000</td>\n",
              "    </tr>\n",
              "    <tr>\n",
              "      <th>25%</th>\n",
              "      <td>35.000000</td>\n",
              "      <td>2000.000000</td>\n",
              "      <td>4.000000</td>\n",
              "      <td>38.000000</td>\n",
              "      <td>0.000000</td>\n",
              "      <td>136.000000</td>\n",
              "      <td>0.000000</td>\n",
              "      <td>0.000000</td>\n",
              "    </tr>\n",
              "    <tr>\n",
              "      <th>50%</th>\n",
              "      <td>73.000000</td>\n",
              "      <td>2006.000000</td>\n",
              "      <td>6.000000</td>\n",
              "      <td>76.000000</td>\n",
              "      <td>0.000000</td>\n",
              "      <td>391.000000</td>\n",
              "      <td>1.000000</td>\n",
              "      <td>1.000000</td>\n",
              "    </tr>\n",
              "    <tr>\n",
              "      <th>75%</th>\n",
              "      <td>114.000000</td>\n",
              "      <td>2012.000000</td>\n",
              "      <td>10.000000</td>\n",
              "      <td>119.000000</td>\n",
              "      <td>166.060000</td>\n",
              "      <td>585.000000</td>\n",
              "      <td>2.000000</td>\n",
              "      <td>2.000000</td>\n",
              "    </tr>\n",
              "    <tr>\n",
              "      <th>max</th>\n",
              "      <td>209.000000</td>\n",
              "      <td>2018.000000</td>\n",
              "      <td>12.000000</td>\n",
              "      <td>209.000000</td>\n",
              "      <td>1770.060000</td>\n",
              "      <td>1887.000000</td>\n",
              "      <td>31.000000</td>\n",
              "      <td>18.000000</td>\n",
              "    </tr>\n",
              "  </tbody>\n",
              "</table>\n",
              "</div>"
            ],
            "text/plain": [
              "       home_team_rank          year  ...    home_score    away_score\n",
              "count    28439.000000  28439.000000  ...  28439.000000  28439.000000\n",
              "mean        78.387813   2006.179437  ...      1.598263      1.108196\n",
              "std         51.097232      6.844128  ...      1.638995      1.311873\n",
              "min          1.000000   1993.000000  ...      0.000000      0.000000\n",
              "25%         35.000000   2000.000000  ...      0.000000      0.000000\n",
              "50%         73.000000   2006.000000  ...      1.000000      1.000000\n",
              "75%        114.000000   2012.000000  ...      2.000000      2.000000\n",
              "max        209.000000   2018.000000  ...     31.000000     18.000000\n",
              "\n",
              "[8 rows x 8 columns]"
            ]
          },
          "metadata": {},
          "execution_count": 1078
        }
      ]
    },
    {
      "cell_type": "code",
      "metadata": {
        "colab": {
          "base_uri": "https://localhost:8080/",
          "height": 645
        },
        "id": "cPMVPjCSr0Y5",
        "outputId": "a1cff960-09f1-4a5f-c547-187248c373c2"
      },
      "source": [
        "# Checking for outliers in the home and away scores\n",
        "fig, axes = plt.subplots(1,2, figsize=(15, 8))\n",
        "fig.suptitle('Boxplots')\n",
        "sns.boxplot(df['home_score'], ax=axes[0])\n",
        "sns.boxplot(df['away_score'], ax=axes[1])\n",
        "plt.show()"
      ],
      "execution_count": 1079,
      "outputs": [
        {
          "output_type": "stream",
          "name": "stderr",
          "text": [
            "/usr/local/lib/python3.7/dist-packages/seaborn/_decorators.py:43: FutureWarning: Pass the following variable as a keyword arg: x. From version 0.12, the only valid positional argument will be `data`, and passing other arguments without an explicit keyword will result in an error or misinterpretation.\n",
            "  FutureWarning\n",
            "/usr/local/lib/python3.7/dist-packages/seaborn/_decorators.py:43: FutureWarning: Pass the following variable as a keyword arg: x. From version 0.12, the only valid positional argument will be `data`, and passing other arguments without an explicit keyword will result in an error or misinterpretation.\n",
            "  FutureWarning\n"
          ]
        },
        {
          "output_type": "display_data",
          "data": {
            "image/png": "[encoded data removed]",
            "text/plain": [
              "<Figure size 1080x576 with 2 Axes>"
            ]
          },
          "metadata": {
            "needs_background": "light"
          }
        }
      ]
    },
    {
      "cell_type": "code",
      "metadata": {
        "colab": {
          "base_uri": "https://localhost:8080/",
          "height": 286
        },
        "id": "ZJTkWcJ8uXbK",
        "outputId": "e849fdab-1d62-4fab-dd12-f174247fb19f"
      },
      "source": [
        "#Categorical variables\n",
        "# Pie chart for neutral\n",
        "df['neutral'].value_counts().plot(kind='pie',shadow = True,explode=(0,0.1), colors=['green','yellow'], autopct='%1.1f%%')\n",
        "plt.title(\"Pie chart of the neutral\", y=1.1)\n",
        "plt.show()"
      ],
      "execution_count": 1080,
      "outputs": [
        {
          "output_type": "display_data",
          "data": {
            "image/png": "[encoded data removed]",
            "text/plain": [
              "<Figure size 432x288 with 1 Axes>"
            ]
          },
          "metadata": {}
        }
      ]
    },
    {
      "cell_type": "code",
      "metadata": {
        "colab": {
          "base_uri": "https://localhost:8080/"
        },
        "id": "C_RW0Own1Aj3",
        "outputId": "beb5912c-2f0d-4284-8221-43fded6c6bfc"
      },
      "source": [
        "#Frequency table\n",
        "df['tournament'].value_counts()"
      ],
      "execution_count": 1081,
      "outputs": [
        {
          "output_type": "execute_result",
          "data": {
            "text/plain": [
              "Friendly                                10259\n",
              "FIFA World Cup qualification             5378\n",
              "UEFA Euro qualification                  1629\n",
              "African Cup of Nations qualification     1063\n",
              "CECAFA Cup                                760\n",
              "                                        ...  \n",
              "Windward Islands Tournament                 7\n",
              "SKN Football Festival                       6\n",
              "Dragon Cup                                  6\n",
              "Copa del Pacífico                           4\n",
              "Copa América qualification                  2\n",
              "Name: tournament, Length: 65, dtype: int64"
            ]
          },
          "metadata": {},
          "execution_count": 1081
        }
      ]
    },
    {
      "cell_type": "code",
      "metadata": {
        "colab": {
          "base_uri": "https://localhost:8080/"
        },
        "id": "jUSWQmn81iat",
        "outputId": "ecc7d647-1c94-4b35-d610-37af1b5cc0a0"
      },
      "source": [
        "#Frequency table\n",
        "df['country'].value_counts()"
      ],
      "execution_count": 1082,
      "outputs": [
        {
          "output_type": "execute_result",
          "data": {
            "text/plain": [
              "United States               1249\n",
              "South Africa                 637\n",
              "Qatar                        563\n",
              "United Arab Emirates         533\n",
              "France                       521\n",
              "                            ... \n",
              "Zanzibar                       1\n",
              "Turks and Caicos Islands       1\n",
              "Sint Maarten                   1\n",
              "Zaïre                          1\n",
              "Yugoslavia                     1\n",
              "Name: country, Length: 222, dtype: int64"
            ]
          },
          "metadata": {},
          "execution_count": 1082
        }
      ]
    },
    {
      "cell_type": "code",
      "metadata": {
        "colab": {
          "base_uri": "https://localhost:8080/"
        },
        "id": "-c1po2vU3f5N",
        "outputId": "715d6ca9-f733-4c6f-a93a-5b4177e743bd"
      },
      "source": [
        "#Frequency table\n",
        "df['home_team'].value_counts()"
      ],
      "execution_count": 1083,
      "outputs": [
        {
          "output_type": "execute_result",
          "data": {
            "text/plain": [
              "Saudi Arabia             445\n",
              "Mexico                   436\n",
              "Oman                     374\n",
              "Qatar                    368\n",
              "United Arab Emirates     343\n",
              "                        ... \n",
              "Andalusia                  1\n",
              "Galicia                    1\n",
              "St. Pierre & Miquelon      1\n",
              "Silesia                    1\n",
              "Réunion                    1\n",
              "Name: home_team, Length: 229, dtype: int64"
            ]
          },
          "metadata": {},
          "execution_count": 1083
        }
      ]
    },
    {
      "cell_type": "code",
      "metadata": {
        "colab": {
          "base_uri": "https://localhost:8080/"
        },
        "id": "g_Z0cUCM3hK-",
        "outputId": "c259804e-824f-4605-adcb-bbaf4419f24a"
      },
      "source": [
        "#Frequency table\n",
        "df['away_team'].value_counts()"
      ],
      "execution_count": 1084,
      "outputs": [
        {
          "output_type": "execute_result",
          "data": {
            "text/plain": [
              "Saudi Arabia                389\n",
              "Zambia                      375\n",
              "Syria                       327\n",
              "Iraq                        310\n",
              "Uganda                      307\n",
              "                           ... \n",
              "South Sudan                  19\n",
              "Turks and Caicos Islands     10\n",
              "Montserrat                    8\n",
              "Kosovo                        6\n",
              "Gibraltar                     6\n",
              "Name: away_team, Length: 193, dtype: int64"
            ]
          },
          "metadata": {},
          "execution_count": 1084
        }
      ]
    },
    {
      "cell_type": "markdown",
      "metadata": {
        "id": "tMQN57qk30kd"
      },
      "source": [
        "## Bivariate analysis"
      ]
    },
    {
      "cell_type": "code",
      "metadata": {
        "colab": {
          "base_uri": "https://localhost:8080/",
          "height": 318
        },
        "id": "OpaQEjKc3zzo",
        "outputId": "47da9793-a7a2-4b27-8f4e-082d94d730c0"
      },
      "source": [
        "#creating a scatter plot for total number of goals per rank\n",
        "grp=df.groupby('home_team_rank')['home_score'].count().reset_index(name='total number of goals per rank')\n",
        "plt.scatter(grp[\"home_team_rank\"] , grp['total number of goals per rank'])\n",
        "plt.title(\"Scatter plot between home team rank and the number of hometeam scores\", y=1.1)\n",
        "plt.xlabel('home_team_rank')\n",
        "plt.ylabel('total number of goals per rank')\n",
        "plt.show()\n",
        "# we can see that as the rank increases the number of home team scores reduces"
      ],
      "execution_count": 1085,
      "outputs": [
        {
          "output_type": "display_data",
          "data": {
            "image/png": "[encoded data removed]",
            "text/plain": [
              "<Figure size 432x288 with 1 Axes>"
            ]
          },
          "metadata": {
            "needs_background": "light"
          }
        }
      ]
    },
    {
      "cell_type": "code",
      "metadata": {
        "colab": {
          "base_uri": "https://localhost:8080/",
          "height": 318
        },
        "id": "vnULjSXw_52p",
        "outputId": "9b20b2df-b9b2-467f-b498-32d0f51a20fd"
      },
      "source": [
        "#creating a scatter plot for total number of goals per rank\n",
        "grp=df.groupby('away_team_rank')['away_score'].count().reset_index(name='total number of away goals per rank')\n",
        "plt.scatter(grp[\"away_team_rank\"] , grp['total number of away goals per rank'])\n",
        "plt.title(\"Scatter plot between away team rank and the number of hometeam scores\", y=1.1)\n",
        "plt.xlabel('away_team_rank')\n",
        "plt.ylabel('total number of away goals per rank')\n",
        "plt.show()\n",
        "# we can see that as the rank increases the number of away team scores reduces"
      ],
      "execution_count": 1086,
      "outputs": [
        {
          "output_type": "display_data",
          "data": {
            "image/png": "[encoded data removed]",
            "text/plain": [
              "<Figure size 432x288 with 1 Axes>"
            ]
          },
          "metadata": {
            "needs_background": "light"
          }
        }
      ]
    },
    {
      "cell_type": "code",
      "metadata": {
        "colab": {
          "base_uri": "https://localhost:8080/",
          "height": 563
        },
        "id": "INwMeg_zFpyl",
        "outputId": "7bf440c6-7519-486b-e0db-0edfbeb2eb6f"
      },
      "source": [
        "#Plotting a heat map to show correlation between the different variables\n",
        "plt.figure(figsize=(10,8))\n",
        "sns.heatmap(df.corr(),annot=True,cmap=\"Reds\",fmt=\".2f\");\n",
        "plt.show()"
      ],
      "execution_count": 1087,
      "outputs": [
        {
          "output_type": "display_data",
          "data": {
            "image/png": "[encoded data removed]",
            "text/plain": [
              "<Figure size 720x576 with 2 Axes>"
            ]
          },
          "metadata": {
            "needs_background": "light"
          }
        }
      ]
    },
    {
      "cell_type": "markdown",
      "metadata": {
        "id": "nytjmFHmHzQX"
      },
      "source": [
        "## 7. Feature Engineering"
      ]
    },
    {
      "cell_type": "code",
      "metadata": {
        "colab": {
          "base_uri": "https://localhost:8080/",
          "height": 184
        },
        "id": "Jbt__zSqVepl",
        "outputId": "dc95492e-9112-47b6-cb29-e0d85754ede7"
      },
      "source": [
        "# creating a colum with status (win,lose,draw)\n",
        "# Creating a list to display the conditions of the match\n",
        "# from the home team's perspective \n",
        "\n",
        "condition  = [\n",
        "              \n",
        "    (df['home_score'] == df['away_score']),         \n",
        "    (df['home_score'] < df['away_score']),\n",
        "    (df['home_score'] > df['away_score'])\n",
        "\n",
        "    ]\n",
        "\n",
        "# the status we want to assign the conditions\n",
        "status = ['Draw','Lose','Win']\n",
        "\n",
        "# Creating a new column and use np.select to assign values to it using our lists \n",
        "df['status'] = np.select(condition, status)\n",
        "df.head(2)"
      ],
      "execution_count": 1088,
      "outputs": [
        {
          "output_type": "execute_result",
          "data": {
            "text/html": [
              "<div>\n",
              "<style scoped>\n",
              "    .dataframe tbody tr th:only-of-type {\n",
              "        vertical-align: middle;\n",
              "    }\n",
              "\n",
              "    .dataframe tbody tr th {\n",
              "        vertical-align: top;\n",
              "    }\n",
              "\n",
              "    .dataframe thead th {\n",
              "        text-align: right;\n",
              "    }\n",
              "</style>\n",
              "<table border=\"1\" class=\"dataframe\">\n",
              "  <thead>\n",
              "    <tr style=\"text-align: right;\">\n",
              "      <th></th>\n",
              "      <th>home_team_rank</th>\n",
              "      <th>confederation_x</th>\n",
              "      <th>year</th>\n",
              "      <th>month</th>\n",
              "      <th>date_x</th>\n",
              "      <th>away_team</th>\n",
              "      <th>city_x</th>\n",
              "      <th>away_team_rank</th>\n",
              "      <th>total_points</th>\n",
              "      <th>previous_points</th>\n",
              "      <th>confederation_y</th>\n",
              "      <th>date_y</th>\n",
              "      <th>home_team</th>\n",
              "      <th>home_score</th>\n",
              "      <th>away_score</th>\n",
              "      <th>tournament</th>\n",
              "      <th>city_y</th>\n",
              "      <th>country</th>\n",
              "      <th>neutral</th>\n",
              "      <th>status</th>\n",
              "    </tr>\n",
              "  </thead>\n",
              "  <tbody>\n",
              "    <tr>\n",
              "      <th>0</th>\n",
              "      <td>4</td>\n",
              "      <td>UEFA</td>\n",
              "      <td>1993</td>\n",
              "      <td>8</td>\n",
              "      <td>1993-08-11</td>\n",
              "      <td>Switzerland</td>\n",
              "      <td>Borås</td>\n",
              "      <td>3</td>\n",
              "      <td>0.0</td>\n",
              "      <td>50</td>\n",
              "      <td>UEFA</td>\n",
              "      <td>1993-08-11</td>\n",
              "      <td>Sweden</td>\n",
              "      <td>1</td>\n",
              "      <td>2</td>\n",
              "      <td>Friendly</td>\n",
              "      <td>Borås</td>\n",
              "      <td>Sweden</td>\n",
              "      <td>False</td>\n",
              "      <td>Lose</td>\n",
              "    </tr>\n",
              "    <tr>\n",
              "      <th>1</th>\n",
              "      <td>4</td>\n",
              "      <td>UEFA</td>\n",
              "      <td>1993</td>\n",
              "      <td>8</td>\n",
              "      <td>1993-08-22</td>\n",
              "      <td>France</td>\n",
              "      <td>Solna</td>\n",
              "      <td>12</td>\n",
              "      <td>0.0</td>\n",
              "      <td>45</td>\n",
              "      <td>UEFA</td>\n",
              "      <td>1993-08-22</td>\n",
              "      <td>Sweden</td>\n",
              "      <td>1</td>\n",
              "      <td>1</td>\n",
              "      <td>FIFA World Cup qualification</td>\n",
              "      <td>Solna</td>\n",
              "      <td>Sweden</td>\n",
              "      <td>False</td>\n",
              "      <td>Draw</td>\n",
              "    </tr>\n",
              "  </tbody>\n",
              "</table>\n",
              "</div>"
            ],
            "text/plain": [
              "   home_team_rank confederation_x  year  month  ... city_y country neutral  status\n",
              "0               4            UEFA  1993      8  ...  Borås  Sweden   False    Lose\n",
              "1               4            UEFA  1993      8  ...  Solna  Sweden   False    Draw\n",
              "\n",
              "[2 rows x 20 columns]"
            ]
          },
          "metadata": {},
          "execution_count": 1088
        }
      ]
    },
    {
      "cell_type": "code",
      "metadata": {
        "id": "SA5IcWFbgme9"
      },
      "source": [
        "#convert non numerical columns to numerical using lable ecncoding \n",
        "from sklearn.preprocessing import LabelEncoder\n",
        "en = LabelEncoder()\n",
        "df['neutral']= en.fit_transform(df['neutral'])\n",
        "df['status']= en.fit_transform(df['status'])"
      ],
      "execution_count": 1089,
      "outputs": []
    },
    {
      "cell_type": "code",
      "metadata": {
        "colab": {
          "base_uri": "https://localhost:8080/",
          "height": 320
        },
        "id": "VN9gVlftoXc_",
        "outputId": "bd775806-a94f-401e-ec82-9f6b2cc7cda2"
      },
      "source": [
        "#multicollinearity\n",
        "# Pick independent variables only.\n",
        "independent_only= df[[\"home_team_rank\",\"year\",\"month\",\"away_team_rank\",\"total_points\",\"previous_points\",\"neutral\",\"status\"]]\n",
        "\n",
        "# Let's display the correlations between the variables\n",
        "correlations = independent_only.corr()\n",
        "correlations\n",
        "pd.DataFrame(np.linalg.inv(correlations.values), index = correlations.index, columns=correlations.columns)"
      ],
      "execution_count": 1090,
      "outputs": [
        {
          "output_type": "execute_result",
          "data": {
            "text/html": [
              "<div>\n",
              "<style scoped>\n",
              "    .dataframe tbody tr th:only-of-type {\n",
              "        vertical-align: middle;\n",
              "    }\n",
              "\n",
              "    .dataframe tbody tr th {\n",
              "        vertical-align: top;\n",
              "    }\n",
              "\n",
              "    .dataframe thead th {\n",
              "        text-align: right;\n",
              "    }\n",
              "</style>\n",
              "<table border=\"1\" class=\"dataframe\">\n",
              "  <thead>\n",
              "    <tr style=\"text-align: right;\">\n",
              "      <th></th>\n",
              "      <th>home_team_rank</th>\n",
              "      <th>year</th>\n",
              "      <th>month</th>\n",
              "      <th>away_team_rank</th>\n",
              "      <th>total_points</th>\n",
              "      <th>previous_points</th>\n",
              "      <th>neutral</th>\n",
              "      <th>status</th>\n",
              "    </tr>\n",
              "  </thead>\n",
              "  <tbody>\n",
              "    <tr>\n",
              "      <th>home_team_rank</th>\n",
              "      <td>1.418764</td>\n",
              "      <td>-0.106524</td>\n",
              "      <td>-0.047107</td>\n",
              "      <td>-0.740441</td>\n",
              "      <td>0.075946</td>\n",
              "      <td>0.004199</td>\n",
              "      <td>0.020655</td>\n",
              "      <td>0.228546</td>\n",
              "    </tr>\n",
              "    <tr>\n",
              "      <th>year</th>\n",
              "      <td>-0.106524</td>\n",
              "      <td>2.346345</td>\n",
              "      <td>0.068303</td>\n",
              "      <td>-1.276236</td>\n",
              "      <td>-1.249617</td>\n",
              "      <td>-1.123703</td>\n",
              "      <td>0.002175</td>\n",
              "      <td>0.062754</td>\n",
              "    </tr>\n",
              "    <tr>\n",
              "      <th>month</th>\n",
              "      <td>-0.047107</td>\n",
              "      <td>0.068303</td>\n",
              "      <td>1.018849</td>\n",
              "      <td>-0.070904</td>\n",
              "      <td>-0.098800</td>\n",
              "      <td>0.022398</td>\n",
              "      <td>0.091362</td>\n",
              "      <td>0.005758</td>\n",
              "    </tr>\n",
              "    <tr>\n",
              "      <th>away_team_rank</th>\n",
              "      <td>-0.740441</td>\n",
              "      <td>-1.276236</td>\n",
              "      <td>-0.070904</td>\n",
              "      <td>2.940309</td>\n",
              "      <td>0.555071</td>\n",
              "      <td>1.834168</td>\n",
              "      <td>-0.081817</td>\n",
              "      <td>-0.370030</td>\n",
              "    </tr>\n",
              "    <tr>\n",
              "      <th>total_points</th>\n",
              "      <td>0.075946</td>\n",
              "      <td>-1.249617</td>\n",
              "      <td>-0.098800</td>\n",
              "      <td>0.555071</td>\n",
              "      <td>2.062463</td>\n",
              "      <td>-0.213653</td>\n",
              "      <td>-0.062935</td>\n",
              "      <td>-0.021942</td>\n",
              "    </tr>\n",
              "    <tr>\n",
              "      <th>previous_points</th>\n",
              "      <td>0.004199</td>\n",
              "      <td>-1.123703</td>\n",
              "      <td>0.022398</td>\n",
              "      <td>1.834168</td>\n",
              "      <td>-0.213653</td>\n",
              "      <td>2.751391</td>\n",
              "      <td>0.017464</td>\n",
              "      <td>-0.024708</td>\n",
              "    </tr>\n",
              "    <tr>\n",
              "      <th>neutral</th>\n",
              "      <td>0.020655</td>\n",
              "      <td>0.002175</td>\n",
              "      <td>0.091362</td>\n",
              "      <td>-0.081817</td>\n",
              "      <td>-0.062935</td>\n",
              "      <td>0.017464</td>\n",
              "      <td>1.016751</td>\n",
              "      <td>0.066545</td>\n",
              "    </tr>\n",
              "    <tr>\n",
              "      <th>status</th>\n",
              "      <td>0.228546</td>\n",
              "      <td>0.062754</td>\n",
              "      <td>0.005758</td>\n",
              "      <td>-0.370030</td>\n",
              "      <td>-0.021942</td>\n",
              "      <td>-0.024708</td>\n",
              "      <td>0.066545</td>\n",
              "      <td>1.086818</td>\n",
              "    </tr>\n",
              "  </tbody>\n",
              "</table>\n",
              "</div>"
            ],
            "text/plain": [
              "                 home_team_rank      year  ...   neutral    status\n",
              "home_team_rank         1.418764 -0.106524  ...  0.020655  0.228546\n",
              "year                  -0.106524  2.346345  ...  0.002175  0.062754\n",
              "month                 -0.047107  0.068303  ...  0.091362  0.005758\n",
              "away_team_rank        -0.740441 -1.276236  ... -0.081817 -0.370030\n",
              "total_points           0.075946 -1.249617  ... -0.062935 -0.021942\n",
              "previous_points        0.004199 -1.123703  ...  0.017464 -0.024708\n",
              "neutral                0.020655  0.002175  ...  1.016751  0.066545\n",
              "status                 0.228546  0.062754  ...  0.066545  1.086818\n",
              "\n",
              "[8 rows x 8 columns]"
            ]
          },
          "metadata": {},
          "execution_count": 1090
        }
      ]
    },
    {
      "cell_type": "markdown",
      "metadata": {
        "id": "eAVJc3z4fa7Y"
      },
      "source": [
        "## Polynomial Regression"
      ]
    },
    {
      "cell_type": "markdown",
      "metadata": {
        "id": "9WqGvBJlKtnK"
      },
      "source": [
        "\n",
        "### Model 1 - Predicting Home score"
      ]
    },
    {
      "cell_type": "code",
      "metadata": {
        "id": "PJLZaRzJXJ3w",
        "colab": {
          "base_uri": "https://localhost:8080/",
          "height": 226
        },
        "outputId": "7745a4f0-156f-4212-b6bc-7fbbcd47674d"
      },
      "source": [
        "# Picking the columns needed for predicting home scores\n",
        "#\n",
        "# We first select the columns that we will use in our modelling\n",
        "df1= df[[\"home_team\",\"away_team\",\"home_score\",\"home_team_rank\",\"away_team_rank\",\"total_points\",\t\"previous_points\",\"neutral\",\"status\"]]\n",
        "df1.head()"
      ],
      "execution_count": 1091,
      "outputs": [
        {
          "output_type": "execute_result",
          "data": {
            "text/html": [
              "<div>\n",
              "<style scoped>\n",
              "    .dataframe tbody tr th:only-of-type {\n",
              "        vertical-align: middle;\n",
              "    }\n",
              "\n",
              "    .dataframe tbody tr th {\n",
              "        vertical-align: top;\n",
              "    }\n",
              "\n",
              "    .dataframe thead th {\n",
              "        text-align: right;\n",
              "    }\n",
              "</style>\n",
              "<table border=\"1\" class=\"dataframe\">\n",
              "  <thead>\n",
              "    <tr style=\"text-align: right;\">\n",
              "      <th></th>\n",
              "      <th>home_team</th>\n",
              "      <th>away_team</th>\n",
              "      <th>home_score</th>\n",
              "      <th>home_team_rank</th>\n",
              "      <th>away_team_rank</th>\n",
              "      <th>total_points</th>\n",
              "      <th>previous_points</th>\n",
              "      <th>neutral</th>\n",
              "      <th>status</th>\n",
              "    </tr>\n",
              "  </thead>\n",
              "  <tbody>\n",
              "    <tr>\n",
              "      <th>0</th>\n",
              "      <td>Sweden</td>\n",
              "      <td>Switzerland</td>\n",
              "      <td>1</td>\n",
              "      <td>4</td>\n",
              "      <td>3</td>\n",
              "      <td>0.0</td>\n",
              "      <td>50</td>\n",
              "      <td>0</td>\n",
              "      <td>1</td>\n",
              "    </tr>\n",
              "    <tr>\n",
              "      <th>1</th>\n",
              "      <td>Sweden</td>\n",
              "      <td>France</td>\n",
              "      <td>1</td>\n",
              "      <td>4</td>\n",
              "      <td>12</td>\n",
              "      <td>0.0</td>\n",
              "      <td>45</td>\n",
              "      <td>0</td>\n",
              "      <td>0</td>\n",
              "    </tr>\n",
              "    <tr>\n",
              "      <th>2</th>\n",
              "      <td>Paraguay</td>\n",
              "      <td>Peru</td>\n",
              "      <td>2</td>\n",
              "      <td>5</td>\n",
              "      <td>70</td>\n",
              "      <td>0.0</td>\n",
              "      <td>16</td>\n",
              "      <td>0</td>\n",
              "      <td>2</td>\n",
              "    </tr>\n",
              "    <tr>\n",
              "      <th>3</th>\n",
              "      <td>Argentina</td>\n",
              "      <td>Peru</td>\n",
              "      <td>2</td>\n",
              "      <td>5</td>\n",
              "      <td>70</td>\n",
              "      <td>0.0</td>\n",
              "      <td>16</td>\n",
              "      <td>0</td>\n",
              "      <td>2</td>\n",
              "    </tr>\n",
              "    <tr>\n",
              "      <th>4</th>\n",
              "      <td>Colombia</td>\n",
              "      <td>Peru</td>\n",
              "      <td>4</td>\n",
              "      <td>5</td>\n",
              "      <td>70</td>\n",
              "      <td>0.0</td>\n",
              "      <td>16</td>\n",
              "      <td>0</td>\n",
              "      <td>2</td>\n",
              "    </tr>\n",
              "  </tbody>\n",
              "</table>\n",
              "</div>"
            ],
            "text/plain": [
              "   home_team    away_team  home_score  ...  previous_points  neutral  status\n",
              "0     Sweden  Switzerland           1  ...               50        0       1\n",
              "1     Sweden       France           1  ...               45        0       0\n",
              "2   Paraguay         Peru           2  ...               16        0       2\n",
              "3  Argentina         Peru           2  ...               16        0       2\n",
              "4   Colombia         Peru           4  ...               16        0       2\n",
              "\n",
              "[5 rows x 9 columns]"
            ]
          },
          "metadata": {},
          "execution_count": 1091
        }
      ]
    },
    {
      "cell_type": "code",
      "metadata": {
        "id": "lzG4-MKwgBMc"
      },
      "source": [
        "#Slitting our data into train and features\n",
        "X=df1[[\"home_team_rank\",\"away_team_rank\",\"total_points\",\"previous_points\",\"neutral\",\"status\"]]\n",
        "y=df1[\"home_score\"]\n",
        "\n",
        "# Encoding the categorical vriables using the get dummies function\n",
        "X = pd.get_dummies(X, drop_first=True)\n",
        "\n",
        "# Split the dataset into train and test sets\n",
        "X_train, Y_train, X_test, Y_test = train_test_split(X,y, test_size = 0.2, random_state=25)"
      ],
      "execution_count": 1094,
      "outputs": []
    },
    {
      "cell_type": "code",
      "metadata": {
        "colab": {
          "base_uri": "https://localhost:8080/",
          "height": 487
        },
        "id": "DY6wZwL0xkkK",
        "outputId": "d41526dc-d824-49ce-d460-4b389ad2c4e5"
      },
      "source": [
        "#Standardising the data to the same scale\n",
        "standard = StandardScaler()\n",
        "X_train = standard.fit_transform(X_train)\n",
        "X_test = standard.transform(X_test)"
      ],
      "execution_count": 1095,
      "outputs": [
        {
          "output_type": "stream",
          "name": "stderr",
          "text": [
            "/usr/local/lib/python3.7/dist-packages/sklearn/base.py:446: UserWarning: X does not have valid feature names, but StandardScaler was fitted with feature names\n",
            "  \"X does not have valid feature names, but\"\n"
          ]
        },
        {
          "output_type": "error",
          "ename": "ValueError",
          "evalue": "ignored",
          "traceback": [
            "\u001b[0;31m---------------------------------------------------------------------------\u001b[0m",
            "\u001b[0;31mValueError\u001b[0m                                Traceback (most recent call last)",
            "\u001b[0;32m<ipython-input-1095-7d5cbf901b7f>\u001b[0m in \u001b[0;36m<module>\u001b[0;34m()\u001b[0m\n\u001b[1;32m      2\u001b[0m \u001b[0mstandard\u001b[0m \u001b[0;34m=\u001b[0m \u001b[0mStandardScaler\u001b[0m\u001b[0;34m(\u001b[0m\u001b[0;34m)\u001b[0m\u001b[0;34m\u001b[0m\u001b[0;34m\u001b[0m\u001b[0m\n\u001b[1;32m      3\u001b[0m \u001b[0mX_train\u001b[0m \u001b[0;34m=\u001b[0m \u001b[0mstandard\u001b[0m\u001b[0;34m.\u001b[0m\u001b[0mfit_transform\u001b[0m\u001b[0;34m(\u001b[0m\u001b[0mX_train\u001b[0m\u001b[0;34m)\u001b[0m\u001b[0;34m\u001b[0m\u001b[0;34m\u001b[0m\u001b[0m\n\u001b[0;32m----> 4\u001b[0;31m \u001b[0mX_test\u001b[0m \u001b[0;34m=\u001b[0m \u001b[0mstandard\u001b[0m\u001b[0;34m.\u001b[0m\u001b[0mtransform\u001b[0m\u001b[0;34m(\u001b[0m\u001b[0mX_test\u001b[0m\u001b[0;34m)\u001b[0m\u001b[0;34m\u001b[0m\u001b[0;34m\u001b[0m\u001b[0m\n\u001b[0m",
            "\u001b[0;32m/usr/local/lib/python3.7/dist-packages/sklearn/preprocessing/_data.py\u001b[0m in \u001b[0;36mtransform\u001b[0;34m(self, X, copy)\u001b[0m\n\u001b[1;32m    978\u001b[0m             \u001b[0mestimator\u001b[0m\u001b[0;34m=\u001b[0m\u001b[0mself\u001b[0m\u001b[0;34m,\u001b[0m\u001b[0;34m\u001b[0m\u001b[0;34m\u001b[0m\u001b[0m\n\u001b[1;32m    979\u001b[0m             \u001b[0mdtype\u001b[0m\u001b[0;34m=\u001b[0m\u001b[0mFLOAT_DTYPES\u001b[0m\u001b[0;34m,\u001b[0m\u001b[0;34m\u001b[0m\u001b[0;34m\u001b[0m\u001b[0m\n\u001b[0;32m--> 980\u001b[0;31m             \u001b[0mforce_all_finite\u001b[0m\u001b[0;34m=\u001b[0m\u001b[0;34m\"allow-nan\"\u001b[0m\u001b[0;34m,\u001b[0m\u001b[0;34m\u001b[0m\u001b[0;34m\u001b[0m\u001b[0m\n\u001b[0m\u001b[1;32m    981\u001b[0m         )\n\u001b[1;32m    982\u001b[0m \u001b[0;34m\u001b[0m\u001b[0m\n",
            "\u001b[0;32m/usr/local/lib/python3.7/dist-packages/sklearn/base.py\u001b[0m in \u001b[0;36m_validate_data\u001b[0;34m(self, X, y, reset, validate_separately, **check_params)\u001b[0m\n\u001b[1;32m    559\u001b[0m             \u001b[0;32mraise\u001b[0m \u001b[0mValueError\u001b[0m\u001b[0;34m(\u001b[0m\u001b[0;34m\"Validation should be done on X, y or both.\"\u001b[0m\u001b[0;34m)\u001b[0m\u001b[0;34m\u001b[0m\u001b[0;34m\u001b[0m\u001b[0m\n\u001b[1;32m    560\u001b[0m         \u001b[0;32melif\u001b[0m \u001b[0;32mnot\u001b[0m \u001b[0mno_val_X\u001b[0m \u001b[0;32mand\u001b[0m \u001b[0mno_val_y\u001b[0m\u001b[0;34m:\u001b[0m\u001b[0;34m\u001b[0m\u001b[0;34m\u001b[0m\u001b[0m\n\u001b[0;32m--> 561\u001b[0;31m             \u001b[0mX\u001b[0m \u001b[0;34m=\u001b[0m \u001b[0mcheck_array\u001b[0m\u001b[0;34m(\u001b[0m\u001b[0mX\u001b[0m\u001b[0;34m,\u001b[0m \u001b[0;34m**\u001b[0m\u001b[0mcheck_params\u001b[0m\u001b[0;34m)\u001b[0m\u001b[0;34m\u001b[0m\u001b[0;34m\u001b[0m\u001b[0m\n\u001b[0m\u001b[1;32m    562\u001b[0m             \u001b[0mout\u001b[0m \u001b[0;34m=\u001b[0m \u001b[0mX\u001b[0m\u001b[0;34m\u001b[0m\u001b[0;34m\u001b[0m\u001b[0m\n\u001b[1;32m    563\u001b[0m         \u001b[0;32melif\u001b[0m \u001b[0mno_val_X\u001b[0m \u001b[0;32mand\u001b[0m \u001b[0;32mnot\u001b[0m \u001b[0mno_val_y\u001b[0m\u001b[0;34m:\u001b[0m\u001b[0;34m\u001b[0m\u001b[0;34m\u001b[0m\u001b[0m\n",
            "\u001b[0;32m/usr/local/lib/python3.7/dist-packages/sklearn/utils/validation.py\u001b[0m in \u001b[0;36mcheck_array\u001b[0;34m(array, accept_sparse, accept_large_sparse, dtype, order, copy, force_all_finite, ensure_2d, allow_nd, ensure_min_samples, ensure_min_features, estimator)\u001b[0m\n\u001b[1;32m    763\u001b[0m                     \u001b[0;34m\"Reshape your data either using array.reshape(-1, 1) if \"\u001b[0m\u001b[0;34m\u001b[0m\u001b[0;34m\u001b[0m\u001b[0m\n\u001b[1;32m    764\u001b[0m                     \u001b[0;34m\"your data has a single feature or array.reshape(1, -1) \"\u001b[0m\u001b[0;34m\u001b[0m\u001b[0;34m\u001b[0m\u001b[0m\n\u001b[0;32m--> 765\u001b[0;31m                     \u001b[0;34m\"if it contains a single sample.\"\u001b[0m\u001b[0;34m.\u001b[0m\u001b[0mformat\u001b[0m\u001b[0;34m(\u001b[0m\u001b[0marray\u001b[0m\u001b[0;34m)\u001b[0m\u001b[0;34m\u001b[0m\u001b[0;34m\u001b[0m\u001b[0m\n\u001b[0m\u001b[1;32m    766\u001b[0m                 )\n\u001b[1;32m    767\u001b[0m \u001b[0;34m\u001b[0m\u001b[0m\n",
            "\u001b[0;31mValueError\u001b[0m: Expected 2D array, got 1D array instead:\narray=[1. 1. 0. ... 1. 1. 1.].\nReshape your data either using array.reshape(-1, 1) if your data has a single feature or array.reshape(1, -1) if it contains a single sample."
          ]
        }
      ]
    },
    {
      "cell_type": "code",
      "metadata": {
        "id": "l1RE6x6WuJUJ"
      },
      "source": [
        "# Fit polynomial Regression to the dataset\n",
        "poly_reg = PolynomialFeatures(degree = 5) \n",
        "X_poly = poly_reg.fit_transform(X)\n",
        "\n",
        "#\n",
        "pol_reg = LinearRegression()\n",
        "pol_reg.fit(X_poly, y)\n",
        "\n",
        "#Visualize the Polynomial Regression results\n",
        "plt.scatter(X, y, color='blue') \n",
        "plt.plot(X, pol_reg.predict(X_poly), color='red')\n",
        "plt.title('Home score Prediction (Polynomial Regression)')\n",
        "plt.xlabel('Weight')\n",
        "plt.ylabel(\"home_score\")\n",
        "plt.show()"
      ],
      "execution_count": null,
      "outputs": []
    },
    {
      "cell_type": "markdown",
      "metadata": {
        "id": "lQ2G4ZPDVOXE"
      },
      "source": [
        "## 8. Challenging the solution"
      ]
    },
    {
      "cell_type": "markdown",
      "metadata": {
        "id": "jWVGKGuiYMWg"
      },
      "source": [
        "> The easy solution is nice because it is, well, easy, but you should never allow those results to hold the day. You should always be thinking of ways to challenge the results, especially if those results comport with your prior expectation.\n",
        "\n",
        "\n",
        "\n",
        "\n"
      ]
    },
    {
      "cell_type": "code",
      "metadata": {
        "id": "j3x3SXZ4XT_L"
      },
      "source": [
        "# Reviewing the Solution \n",
        "#"
      ],
      "execution_count": null,
      "outputs": []
    },
    {
      "cell_type": "markdown",
      "metadata": {
        "id": "xrmHVMVsVS--"
      },
      "source": [
        "## 9. Follow up questions"
      ]
    },
    {
      "cell_type": "markdown",
      "metadata": {
        "id": "pth2qSWhuBIy"
      },
      "source": [
        "> At this point, we can refine our question or collect new data, all in an iterative process to get at the truth.\n",
        "\n"
      ]
    },
    {
      "cell_type": "markdown",
      "metadata": {
        "id": "HPQviDmNtta8"
      },
      "source": [
        "### a). Did we have the right data?"
      ]
    },
    {
      "cell_type": "markdown",
      "metadata": {
        "id": "qjFHK1CKty7o"
      },
      "source": [
        "### b). Do we need other data to answer our question?"
      ]
    },
    {
      "cell_type": "markdown",
      "metadata": {
        "id": "HSsicSdvt4Zs"
      },
      "source": [
        "### c). Did we have the right question?"
      ]
    }
  ]
}